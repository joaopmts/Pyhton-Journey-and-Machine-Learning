{
 "cells": [
  {
   "cell_type": "code",
   "execution_count": 2,
   "id": "33cac648",
   "metadata": {},
   "outputs": [],
   "source": [
    "import numpy as np\n",
    "import pandas as pd\n",
    "import matplotlib.pyplot as plt\n",
    "import seaborn as sb\n",
    "import os\n",
    "\n",
    "local = f\"{os.path.abspath('')}\""
   ]
  },
  {
   "cell_type": "code",
   "execution_count": 2,
   "id": "168750f3",
   "metadata": {},
   "outputs": [
    {
     "data": {
      "text/plain": [
       "36.5"
      ]
     },
     "execution_count": 2,
     "metadata": {},
     "output_type": "execute_result"
    }
   ],
   "source": [
    "# Média Aritmética\n",
    "# Soma de valores dividido por n\n",
    "\n",
    "# idade dos colaboradores da empresa x\n",
    "\n",
    "X=[25,32,29,60]\n",
    "\n",
    "Média_x = sum(X)/len(X)\n",
    "\n",
    "Média_x\n",
    "\n"
   ]
  },
  {
   "cell_type": "code",
   "execution_count": 3,
   "id": "586449e5",
   "metadata": {},
   "outputs": [
    {
     "data": {
      "text/plain": [
       "38.2"
      ]
     },
     "execution_count": 3,
     "metadata": {},
     "output_type": "execute_result"
    }
   ],
   "source": [
    "# idade dos colaboradores da empresa y\n",
    "\n",
    "y=[25,32,29,45,60]\n",
    "\n",
    "Média_y = sum(y)/len(y)\n",
    "\n",
    "Média_y"
   ]
  },
  {
   "attachments": {
    "image.png": {
     "image/png": "[encoded data removed]"
    }
   },
   "cell_type": "markdown",
   "id": "5656a5a2",
   "metadata": {},
   "source": [
    "# Cálculo da Média Aritmética\n",
    "\n",
    "![image.png](attachment:image.png)\n"
   ]
  },
  {
   "cell_type": "code",
   "execution_count": null,
   "id": "f21e9ad9",
   "metadata": {},
   "outputs": [],
   "source": [
    "# utilizando a biblioteca numpy\n",
    "np.mean(X)\n"
   ]
  },
  {
   "cell_type": "code",
   "execution_count": 7,
   "id": "2bd5b7dd",
   "metadata": {},
   "outputs": [
    {
     "name": "stdout",
     "output_type": "stream",
     "text": [
      "Mediana X 30.5\n",
      "Mediana Y 32.0\n"
     ]
    }
   ],
   "source": [
    "# Mediana: definida como o valor central das observações ordenadas quando n for ímpar. \n",
    "# Para oscasos em que n for par, a mediana é definida como valor médio entre as duas observações centrais ordenadas\n",
    "\n",
    "print('Mediana X',np.median(X))\n",
    "print('Mediana Y',np.median(y))\n",
    "\n"
   ]
  },
  {
   "cell_type": "code",
   "execution_count": 8,
   "id": "5fd7ad34",
   "metadata": {},
   "outputs": [
    {
     "name": "stdout",
     "output_type": "stream",
     "text": [
      "média da produção \n",
      " Empregado A: 70.2 \n",
      " Empregado B: 71.0\n",
      "mediana da produção \n",
      " Empregado A: 70.0 \n",
      " Empregado B: 70.0\n"
     ]
    }
   ],
   "source": [
    "# Medidas de Dispersão\n",
    "# Produção diaria de dois empregados\n",
    "\n",
    "EmpregA = [70,71,69,70,71]\n",
    "EmpregB = [60,80,70,62,83] \n",
    "\n",
    "# Média de produção\n",
    "print ('média da produção', '\\n Empregado A:', np.mean(EmpregA),'\\n Empregado B:', np.mean(EmpregB))\n",
    "\n",
    "# Mediana de produção\n",
    "print ('mediana da produção', '\\n Empregado A:', np.median(EmpregA),'\\n Empregado B:', np.median(EmpregB))"
   ]
  },
  {
   "cell_type": "code",
   "execution_count": 12,
   "id": "c469564a",
   "metadata": {},
   "outputs": [
    {
     "data": {
      "image/png": "[encoded data removed]",
      "text/plain": [
       "<Figure size 432x288 with 1 Axes>"
      ]
     },
     "metadata": {
      "needs_background": "light"
     },
     "output_type": "display_data"
    }
   ],
   "source": [
    "# utilizando a biblioteca matplotlib.pyplot\n",
    "\n",
    "#plt.plot(EmpregA, color='g')\n",
    "plt.plot(EmpregA, 'g:')\n",
    "plt.plot(EmpregB, 'b:')\n",
    "plt.ylabel('Produção')\n",
    "plt.xlabel('Tempo')\n",
    "\n",
    "plt.xticks([])\n",
    "plt.legend(['Empregado A','Empregado B'], loc='best')\n",
    "sb.despine() #remover o quadro \n"
   ]
  },
  {
   "cell_type": "code",
   "execution_count": 10,
   "id": "e02ca893",
   "metadata": {},
   "outputs": [
    {
     "name": "stdout",
     "output_type": "stream",
     "text": [
      "Amplitude de Produção de cada empregado \n",
      " Empregado A: 2 \n",
      " Empregado B: 23\n"
     ]
    }
   ],
   "source": [
    "# Amplitude: Avaliar a dispersão do conjunto de dados\n",
    "\n",
    "# Amplitude= Max(dados)- Min(dados)\n",
    "\n",
    "Ampl_A= max(EmpregA)- min(EmpregA)\n",
    "\n",
    "Ampl_B= max(EmpregB)- min(EmpregB)\n",
    "\n",
    "\n",
    "# Amplitude de produção\n",
    "print ('Amplitude de Produção de cada empregado', '\\n Empregado A:', Ampl_A,'\\n Empregado B:', Ampl_B)"
   ]
  },
  {
   "attachments": {
    "image.png": {
     "image/png": "[encoded data removed]"
    }
   },
   "cell_type": "markdown",
   "id": "7bfcebf1",
   "metadata": {},
   "source": [
    "#### Medidas de Dispersão - As medidas de dispersão são medidas que indicam o quão espalhados os dados estão, ou como eles variam. São elas a amplitude, a variância, o desvio padrão e o desvio absoluto. \n",
    "Variância:  uma medida que expressa quanto os dados de um conjunto estão afastados de seu valor esperado. Calculamos a variância no Pandas através da função var():\n",
    "\n",
    "![image.png](attachment:image.png)\n"
   ]
  },
  {
   "cell_type": "code",
   "execution_count": 13,
   "id": "5dd55456",
   "metadata": {},
   "outputs": [
    {
     "name": "stdout",
     "output_type": "stream",
     "text": [
      "erro médio absoluto de Produção de cada empregado \n",
      " Empregado A: 0.6400000000000006 \n",
      " Empregado B: 8.4\n"
     ]
    }
   ],
   "source": [
    "# desvio médio: média aritmética dos desvios absolutos em relação á média\n",
    "# calculado da seguinte forma: primeiro, encontra-se a média dos valores;\n",
    "# calcula-se a distância em valor absoluto de cada ponto desta média; \n",
    "# soma distâncias e dividimos o resultado pela média destas distâncias.\n",
    "# No Pandas, a função mad() faz este cálculo.\n",
    "\n",
    "#erro medio absoluto = soma(valor - media)/n valores\n",
    "\n",
    "\n",
    "Serie_A= pd.Series(EmpregA)\n",
    "\n",
    "Serie_B= pd.Series(EmpregB)\n",
    "\n",
    "mad_A= Serie_A.mad()\n",
    "mad_B= Serie_B.mad()\n",
    "\n",
    "\n",
    "# Desvio médio absoluto\n",
    "print ('erro médio absoluto de Produção de cada empregado', '\\n Empregado A:', mad_A,'\\n Empregado B:', mad_B)"
   ]
  },
  {
   "cell_type": "code",
   "execution_count": 14,
   "id": "a84ecd41",
   "metadata": {},
   "outputs": [
    {
     "name": "stdout",
     "output_type": "stream",
     "text": [
      "desvio padrão dos empregados \n",
      " Empregado A: 0.7483314773547882 \n",
      " Empregado B: 9.252026804976301\n"
     ]
    }
   ],
   "source": [
    "# Desvio Padrão:\n",
    "# uma medida de dispersão, que indica quanto os dados estão afastados da média. \n",
    "# Um valor de desvio padrão alto indica que os valores estão mais espalhados, mais longe da média, e um desvio padrão\n",
    "# baixo indica que os valores estão mais próximos da média. \n",
    "# No Pandas fazemos o cálculo através da função std():\n",
    "\n",
    "dpA=np.std(EmpregA)\n",
    "\n",
    "dpB=np.std(EmpregB)\n",
    "\n",
    " \n",
    "#print ('desvio padrão dos empregados','\\n Empregado A:', {dpA,:.3f} ,'\\n Empregado B:', {dpB, :.3f})\n",
    "#pd.set_option('float_format','{:.3f}'.format)\n",
    "print ('desvio padrão dos empregados','\\n Empregado A:', dpA , '\\n Empregado B:',dpB)"
   ]
  },
  {
   "cell_type": "markdown",
   "id": "0e69676a",
   "metadata": {},
   "source": [
    "#### Leitura de uma base de dados"
   ]
  },
  {
   "cell_type": "code",
   "execution_count": 12,
   "id": "63517727",
   "metadata": {},
   "outputs": [],
   "source": [
    "# lendo a base de dados\n",
    "\n",
    "colaborador = pd.read_csv(f\"{local}\\\\HR_Abandono_2021.csv\", decimal=',', sep=';')"
   ]
  },
  {
   "cell_type": "code",
   "execution_count": 13,
   "id": "4dd5c422",
   "metadata": {},
   "outputs": [
    {
     "data": {
      "text/html": [
       "<div>\n",
       "<style scoped>\n",
       "    .dataframe tbody tr th:only-of-type {\n",
       "        vertical-align: middle;\n",
       "    }\n",
       "\n",
       "    .dataframe tbody tr th {\n",
       "        vertical-align: top;\n",
       "    }\n",
       "\n",
       "    .dataframe thead th {\n",
       "        text-align: right;\n",
       "    }\n",
       "</style>\n",
       "<table border=\"1\" class=\"dataframe\">\n",
       "  <thead>\n",
       "    <tr style=\"text-align: right;\">\n",
       "      <th></th>\n",
       "      <th>id</th>\n",
       "      <th>satisfaction_level</th>\n",
       "      <th>last_evaluation</th>\n",
       "      <th>average_montly_hours</th>\n",
       "      <th>time_spend_company</th>\n",
       "      <th>Work_accident</th>\n",
       "      <th>left</th>\n",
       "      <th>promotion_last_5years</th>\n",
       "      <th>salary</th>\n",
       "      <th>num_project</th>\n",
       "      <th>depto</th>\n",
       "    </tr>\n",
       "  </thead>\n",
       "  <tbody>\n",
       "    <tr>\n",
       "      <th>0</th>\n",
       "      <td>1</td>\n",
       "      <td>0.38</td>\n",
       "      <td>0.53</td>\n",
       "      <td>157</td>\n",
       "      <td>3</td>\n",
       "      <td>0</td>\n",
       "      <td>1</td>\n",
       "      <td>0</td>\n",
       "      <td>low</td>\n",
       "      <td>2</td>\n",
       "      <td>sales</td>\n",
       "    </tr>\n",
       "    <tr>\n",
       "      <th>1</th>\n",
       "      <td>2</td>\n",
       "      <td>0.80</td>\n",
       "      <td>0.86</td>\n",
       "      <td>262</td>\n",
       "      <td>6</td>\n",
       "      <td>0</td>\n",
       "      <td>1</td>\n",
       "      <td>0</td>\n",
       "      <td>medium</td>\n",
       "      <td>5</td>\n",
       "      <td>sales</td>\n",
       "    </tr>\n",
       "    <tr>\n",
       "      <th>2</th>\n",
       "      <td>3</td>\n",
       "      <td>0.11</td>\n",
       "      <td>0.88</td>\n",
       "      <td>272</td>\n",
       "      <td>4</td>\n",
       "      <td>0</td>\n",
       "      <td>1</td>\n",
       "      <td>0</td>\n",
       "      <td>medium</td>\n",
       "      <td>6</td>\n",
       "      <td>sales</td>\n",
       "    </tr>\n",
       "    <tr>\n",
       "      <th>3</th>\n",
       "      <td>4</td>\n",
       "      <td>0.72</td>\n",
       "      <td>0.87</td>\n",
       "      <td>223</td>\n",
       "      <td>5</td>\n",
       "      <td>0</td>\n",
       "      <td>1</td>\n",
       "      <td>0</td>\n",
       "      <td>low</td>\n",
       "      <td>5</td>\n",
       "      <td>sales</td>\n",
       "    </tr>\n",
       "    <tr>\n",
       "      <th>4</th>\n",
       "      <td>5</td>\n",
       "      <td>0.37</td>\n",
       "      <td>0.52</td>\n",
       "      <td>159</td>\n",
       "      <td>3</td>\n",
       "      <td>0</td>\n",
       "      <td>1</td>\n",
       "      <td>0</td>\n",
       "      <td>low</td>\n",
       "      <td>2</td>\n",
       "      <td>sales</td>\n",
       "    </tr>\n",
       "  </tbody>\n",
       "</table>\n",
       "</div>"
      ],
      "text/plain": [
       "   id  satisfaction_level  last_evaluation  average_montly_hours  \\\n",
       "0   1                0.38             0.53                   157   \n",
       "1   2                0.80             0.86                   262   \n",
       "2   3                0.11             0.88                   272   \n",
       "3   4                0.72             0.87                   223   \n",
       "4   5                0.37             0.52                   159   \n",
       "\n",
       "   time_spend_company  Work_accident  left  promotion_last_5years  salary  \\\n",
       "0                   3              0     1                      0     low   \n",
       "1                   6              0     1                      0  medium   \n",
       "2                   4              0     1                      0  medium   \n",
       "3                   5              0     1                      0     low   \n",
       "4                   3              0     1                      0     low   \n",
       "\n",
       "   num_project  depto  \n",
       "0            2  sales  \n",
       "1            5  sales  \n",
       "2            6  sales  \n",
       "3            5  sales  \n",
       "4            2  sales  "
      ]
     },
     "execution_count": 13,
     "metadata": {},
     "output_type": "execute_result"
    }
   ],
   "source": [
    "# visualizando alguns dados\n",
    "colaborador.head() #vizualiza os cinco primeiros"
   ]
  },
  {
   "cell_type": "code",
   "execution_count": 14,
   "id": "37a21dec",
   "metadata": {},
   "outputs": [
    {
     "name": "stdout",
     "output_type": "stream",
     "text": [
      "<class 'pandas.core.frame.DataFrame'>\n",
      "RangeIndex: 14999 entries, 0 to 14998\n",
      "Data columns (total 11 columns):\n",
      " #   Column                 Non-Null Count  Dtype  \n",
      "---  ------                 --------------  -----  \n",
      " 0   id                     14999 non-null  int64  \n",
      " 1   satisfaction_level     14999 non-null  float64\n",
      " 2   last_evaluation        14999 non-null  float64\n",
      " 3   average_montly_hours   14999 non-null  int64  \n",
      " 4   time_spend_company     14999 non-null  int64  \n",
      " 5   Work_accident          14999 non-null  int64  \n",
      " 6   left                   14999 non-null  int64  \n",
      " 7   promotion_last_5years  14999 non-null  int64  \n",
      " 8   salary                 14999 non-null  object \n",
      " 9   num_project            14999 non-null  int64  \n",
      " 10  depto                  14999 non-null  object \n",
      "dtypes: float64(2), int64(7), object(2)\n",
      "memory usage: 1.3+ MB\n"
     ]
    }
   ],
   "source": [
    "# visualizando formatos das variáveis\n",
    "colaborador.info() #observar se alguma variavel nao se enquadra no tipo"
   ]
  },
  {
   "cell_type": "code",
   "execution_count": 7,
   "id": "e649d3da",
   "metadata": {},
   "outputs": [
    {
     "data": {
      "text/plain": [
       "id                       14999\n",
       "satisfaction_level       14999\n",
       "last_evaluation          14999\n",
       "average_montly_hours     14999\n",
       "time_spend_company       14999\n",
       "Work_accident            14999\n",
       "left                     14999\n",
       "promotion_last_5years    14999\n",
       "salary                   14999\n",
       "num_project              14999\n",
       "depto                    14999\n",
       "dtype: int64"
      ]
     },
     "execution_count": 7,
     "metadata": {},
     "output_type": "execute_result"
    }
   ],
   "source": [
    "colaborador.count() #verificar se todos os campos possuem dados para tomar a proxima ação"
   ]
  },
  {
   "cell_type": "code",
   "execution_count": 8,
   "id": "c306a161",
   "metadata": {},
   "outputs": [
    {
     "data": {
      "text/plain": [
       "id                       14999\n",
       "satisfaction_level          93\n",
       "last_evaluation             65\n",
       "average_montly_hours       216\n",
       "time_spend_company           5\n",
       "Work_accident                2\n",
       "left                         2\n",
       "promotion_last_5years        2\n",
       "salary                       3\n",
       "num_project                  5\n",
       "depto                       10\n",
       "dtype: int64"
      ]
     },
     "execution_count": 8,
     "metadata": {},
     "output_type": "execute_result"
    }
   ],
   "source": [
    "colaborador.nunique() #not unique"
   ]
  },
  {
   "cell_type": "code",
   "execution_count": 37,
   "id": "5d8e5c35",
   "metadata": {},
   "outputs": [
    {
     "data": {
      "text/html": [
       "<div>\n",
       "<style scoped>\n",
       "    .dataframe tbody tr th:only-of-type {\n",
       "        vertical-align: middle;\n",
       "    }\n",
       "\n",
       "    .dataframe tbody tr th {\n",
       "        vertical-align: top;\n",
       "    }\n",
       "\n",
       "    .dataframe thead th {\n",
       "        text-align: right;\n",
       "    }\n",
       "</style>\n",
       "<table border=\"1\" class=\"dataframe\">\n",
       "  <thead>\n",
       "    <tr style=\"text-align: right;\">\n",
       "      <th></th>\n",
       "      <th>id</th>\n",
       "      <th>satisfaction_level</th>\n",
       "      <th>last_evaluation</th>\n",
       "      <th>average_montly_hours</th>\n",
       "      <th>time_spend_company</th>\n",
       "      <th>Work_accident</th>\n",
       "      <th>left</th>\n",
       "      <th>promotion_last_5years</th>\n",
       "      <th>salary</th>\n",
       "      <th>num_project</th>\n",
       "      <th>depto</th>\n",
       "    </tr>\n",
       "  </thead>\n",
       "  <tbody>\n",
       "    <tr>\n",
       "      <th>0</th>\n",
       "      <td>False</td>\n",
       "      <td>False</td>\n",
       "      <td>False</td>\n",
       "      <td>False</td>\n",
       "      <td>False</td>\n",
       "      <td>False</td>\n",
       "      <td>False</td>\n",
       "      <td>False</td>\n",
       "      <td>False</td>\n",
       "      <td>False</td>\n",
       "      <td>False</td>\n",
       "    </tr>\n",
       "    <tr>\n",
       "      <th>1</th>\n",
       "      <td>False</td>\n",
       "      <td>False</td>\n",
       "      <td>False</td>\n",
       "      <td>False</td>\n",
       "      <td>False</td>\n",
       "      <td>False</td>\n",
       "      <td>False</td>\n",
       "      <td>False</td>\n",
       "      <td>False</td>\n",
       "      <td>False</td>\n",
       "      <td>False</td>\n",
       "    </tr>\n",
       "    <tr>\n",
       "      <th>2</th>\n",
       "      <td>False</td>\n",
       "      <td>False</td>\n",
       "      <td>False</td>\n",
       "      <td>False</td>\n",
       "      <td>False</td>\n",
       "      <td>False</td>\n",
       "      <td>False</td>\n",
       "      <td>False</td>\n",
       "      <td>False</td>\n",
       "      <td>False</td>\n",
       "      <td>False</td>\n",
       "    </tr>\n",
       "    <tr>\n",
       "      <th>3</th>\n",
       "      <td>False</td>\n",
       "      <td>False</td>\n",
       "      <td>False</td>\n",
       "      <td>False</td>\n",
       "      <td>False</td>\n",
       "      <td>False</td>\n",
       "      <td>False</td>\n",
       "      <td>False</td>\n",
       "      <td>False</td>\n",
       "      <td>False</td>\n",
       "      <td>False</td>\n",
       "    </tr>\n",
       "    <tr>\n",
       "      <th>4</th>\n",
       "      <td>False</td>\n",
       "      <td>False</td>\n",
       "      <td>False</td>\n",
       "      <td>False</td>\n",
       "      <td>False</td>\n",
       "      <td>False</td>\n",
       "      <td>False</td>\n",
       "      <td>False</td>\n",
       "      <td>False</td>\n",
       "      <td>False</td>\n",
       "      <td>False</td>\n",
       "    </tr>\n",
       "    <tr>\n",
       "      <th>...</th>\n",
       "      <td>...</td>\n",
       "      <td>...</td>\n",
       "      <td>...</td>\n",
       "      <td>...</td>\n",
       "      <td>...</td>\n",
       "      <td>...</td>\n",
       "      <td>...</td>\n",
       "      <td>...</td>\n",
       "      <td>...</td>\n",
       "      <td>...</td>\n",
       "      <td>...</td>\n",
       "    </tr>\n",
       "    <tr>\n",
       "      <th>14994</th>\n",
       "      <td>False</td>\n",
       "      <td>False</td>\n",
       "      <td>False</td>\n",
       "      <td>False</td>\n",
       "      <td>False</td>\n",
       "      <td>False</td>\n",
       "      <td>False</td>\n",
       "      <td>False</td>\n",
       "      <td>False</td>\n",
       "      <td>False</td>\n",
       "      <td>False</td>\n",
       "    </tr>\n",
       "    <tr>\n",
       "      <th>14995</th>\n",
       "      <td>False</td>\n",
       "      <td>False</td>\n",
       "      <td>False</td>\n",
       "      <td>False</td>\n",
       "      <td>False</td>\n",
       "      <td>False</td>\n",
       "      <td>False</td>\n",
       "      <td>False</td>\n",
       "      <td>False</td>\n",
       "      <td>False</td>\n",
       "      <td>False</td>\n",
       "    </tr>\n",
       "    <tr>\n",
       "      <th>14996</th>\n",
       "      <td>False</td>\n",
       "      <td>False</td>\n",
       "      <td>False</td>\n",
       "      <td>False</td>\n",
       "      <td>False</td>\n",
       "      <td>False</td>\n",
       "      <td>False</td>\n",
       "      <td>False</td>\n",
       "      <td>False</td>\n",
       "      <td>False</td>\n",
       "      <td>False</td>\n",
       "    </tr>\n",
       "    <tr>\n",
       "      <th>14997</th>\n",
       "      <td>False</td>\n",
       "      <td>False</td>\n",
       "      <td>False</td>\n",
       "      <td>False</td>\n",
       "      <td>False</td>\n",
       "      <td>False</td>\n",
       "      <td>False</td>\n",
       "      <td>False</td>\n",
       "      <td>False</td>\n",
       "      <td>False</td>\n",
       "      <td>False</td>\n",
       "    </tr>\n",
       "    <tr>\n",
       "      <th>14998</th>\n",
       "      <td>False</td>\n",
       "      <td>False</td>\n",
       "      <td>False</td>\n",
       "      <td>False</td>\n",
       "      <td>False</td>\n",
       "      <td>False</td>\n",
       "      <td>False</td>\n",
       "      <td>False</td>\n",
       "      <td>False</td>\n",
       "      <td>False</td>\n",
       "      <td>False</td>\n",
       "    </tr>\n",
       "  </tbody>\n",
       "</table>\n",
       "<p>14999 rows × 11 columns</p>\n",
       "</div>"
      ],
      "text/plain": [
       "          id  satisfaction_level  last_evaluation  average_montly_hours  \\\n",
       "0      False               False            False                 False   \n",
       "1      False               False            False                 False   \n",
       "2      False               False            False                 False   \n",
       "3      False               False            False                 False   \n",
       "4      False               False            False                 False   \n",
       "...      ...                 ...              ...                   ...   \n",
       "14994  False               False            False                 False   \n",
       "14995  False               False            False                 False   \n",
       "14996  False               False            False                 False   \n",
       "14997  False               False            False                 False   \n",
       "14998  False               False            False                 False   \n",
       "\n",
       "       time_spend_company  Work_accident   left  promotion_last_5years  \\\n",
       "0                   False          False  False                  False   \n",
       "1                   False          False  False                  False   \n",
       "2                   False          False  False                  False   \n",
       "3                   False          False  False                  False   \n",
       "4                   False          False  False                  False   \n",
       "...                   ...            ...    ...                    ...   \n",
       "14994               False          False  False                  False   \n",
       "14995               False          False  False                  False   \n",
       "14996               False          False  False                  False   \n",
       "14997               False          False  False                  False   \n",
       "14998               False          False  False                  False   \n",
       "\n",
       "       salary  num_project  depto  \n",
       "0       False        False  False  \n",
       "1       False        False  False  \n",
       "2       False        False  False  \n",
       "3       False        False  False  \n",
       "4       False        False  False  \n",
       "...       ...          ...    ...  \n",
       "14994   False        False  False  \n",
       "14995   False        False  False  \n",
       "14996   False        False  False  \n",
       "14997   False        False  False  \n",
       "14998   False        False  False  \n",
       "\n",
       "[14999 rows x 11 columns]"
      ]
     },
     "execution_count": 37,
     "metadata": {},
     "output_type": "execute_result"
    }
   ],
   "source": [
    "colaborador.isna() #is not avaliable"
   ]
  },
  {
   "cell_type": "code",
   "execution_count": 38,
   "id": "3b6f2643",
   "metadata": {},
   "outputs": [
    {
     "data": {
      "text/plain": [
       "id                       0\n",
       "satisfaction_level       0\n",
       "last_evaluation          0\n",
       "average_montly_hours     0\n",
       "time_spend_company       0\n",
       "Work_accident            0\n",
       "left                     0\n",
       "promotion_last_5years    0\n",
       "salary                   0\n",
       "num_project              0\n",
       "depto                    0\n",
       "dtype: int64"
      ]
     },
     "execution_count": 38,
     "metadata": {},
     "output_type": "execute_result"
    }
   ],
   "source": [
    "colaborador.isna().sum() #soma is not avaliable \n",
    "\n",
    "#algumas opções isna = True\n",
    "#1a - estimar a variavel pelas outras\n",
    "#2a - jogar fora a linha, pois a quantidade é muito pequena\n",
    "#3a - se muitos missings, nao usar a variavel pois tem muitos missings\n",
    "#4a - usa-la como missing"
   ]
  },
  {
   "cell_type": "code",
   "execution_count": 39,
   "id": "d85684ac",
   "metadata": {},
   "outputs": [
    {
     "data": {
      "text/plain": [
       "id                       0.0\n",
       "satisfaction_level       0.0\n",
       "last_evaluation          0.0\n",
       "average_montly_hours     0.0\n",
       "time_spend_company       0.0\n",
       "Work_accident            0.0\n",
       "left                     0.0\n",
       "promotion_last_5years    0.0\n",
       "salary                   0.0\n",
       "num_project              0.0\n",
       "depto                    0.0\n",
       "dtype: float64"
      ]
     },
     "execution_count": 39,
     "metadata": {},
     "output_type": "execute_result"
    }
   ],
   "source": [
    "colaborador.isna().sum()/len(colaborador)*100 #% soma is not avaliable"
   ]
  },
  {
   "cell_type": "code",
   "execution_count": 40,
   "id": "a4e65444",
   "metadata": {},
   "outputs": [
    {
     "data": {
      "text/html": [
       "<div>\n",
       "<style scoped>\n",
       "    .dataframe tbody tr th:only-of-type {\n",
       "        vertical-align: middle;\n",
       "    }\n",
       "\n",
       "    .dataframe tbody tr th {\n",
       "        vertical-align: top;\n",
       "    }\n",
       "\n",
       "    .dataframe thead th {\n",
       "        text-align: right;\n",
       "    }\n",
       "</style>\n",
       "<table border=\"1\" class=\"dataframe\">\n",
       "  <thead>\n",
       "    <tr style=\"text-align: right;\">\n",
       "      <th></th>\n",
       "      <th>id</th>\n",
       "      <th>satisfaction_level</th>\n",
       "      <th>last_evaluation</th>\n",
       "      <th>average_montly_hours</th>\n",
       "      <th>time_spend_company</th>\n",
       "      <th>Work_accident</th>\n",
       "      <th>left</th>\n",
       "      <th>promotion_last_5years</th>\n",
       "      <th>num_project</th>\n",
       "    </tr>\n",
       "  </thead>\n",
       "  <tbody>\n",
       "    <tr>\n",
       "      <th>count</th>\n",
       "      <td>14999.00</td>\n",
       "      <td>14999.00</td>\n",
       "      <td>14999.00</td>\n",
       "      <td>14999.00</td>\n",
       "      <td>14999.00</td>\n",
       "      <td>14999.00</td>\n",
       "      <td>14999.00</td>\n",
       "      <td>14999.00</td>\n",
       "      <td>14999.00</td>\n",
       "    </tr>\n",
       "    <tr>\n",
       "      <th>mean</th>\n",
       "      <td>7500.00</td>\n",
       "      <td>0.61</td>\n",
       "      <td>0.72</td>\n",
       "      <td>201.08</td>\n",
       "      <td>3.41</td>\n",
       "      <td>0.14</td>\n",
       "      <td>0.24</td>\n",
       "      <td>0.02</td>\n",
       "      <td>3.79</td>\n",
       "    </tr>\n",
       "    <tr>\n",
       "      <th>std</th>\n",
       "      <td>4329.98</td>\n",
       "      <td>0.25</td>\n",
       "      <td>0.17</td>\n",
       "      <td>50.18</td>\n",
       "      <td>1.18</td>\n",
       "      <td>0.35</td>\n",
       "      <td>0.43</td>\n",
       "      <td>0.14</td>\n",
       "      <td>1.19</td>\n",
       "    </tr>\n",
       "    <tr>\n",
       "      <th>min</th>\n",
       "      <td>1.00</td>\n",
       "      <td>0.01</td>\n",
       "      <td>0.36</td>\n",
       "      <td>96.00</td>\n",
       "      <td>2.00</td>\n",
       "      <td>0.00</td>\n",
       "      <td>0.00</td>\n",
       "      <td>0.00</td>\n",
       "      <td>2.00</td>\n",
       "    </tr>\n",
       "    <tr>\n",
       "      <th>25%</th>\n",
       "      <td>3750.50</td>\n",
       "      <td>0.44</td>\n",
       "      <td>0.56</td>\n",
       "      <td>156.00</td>\n",
       "      <td>3.00</td>\n",
       "      <td>0.00</td>\n",
       "      <td>0.00</td>\n",
       "      <td>0.00</td>\n",
       "      <td>3.00</td>\n",
       "    </tr>\n",
       "    <tr>\n",
       "      <th>50%</th>\n",
       "      <td>7500.00</td>\n",
       "      <td>0.64</td>\n",
       "      <td>0.72</td>\n",
       "      <td>200.00</td>\n",
       "      <td>3.00</td>\n",
       "      <td>0.00</td>\n",
       "      <td>0.00</td>\n",
       "      <td>0.00</td>\n",
       "      <td>4.00</td>\n",
       "    </tr>\n",
       "    <tr>\n",
       "      <th>75%</th>\n",
       "      <td>11249.50</td>\n",
       "      <td>0.82</td>\n",
       "      <td>0.87</td>\n",
       "      <td>245.00</td>\n",
       "      <td>4.00</td>\n",
       "      <td>0.00</td>\n",
       "      <td>0.00</td>\n",
       "      <td>0.00</td>\n",
       "      <td>5.00</td>\n",
       "    </tr>\n",
       "    <tr>\n",
       "      <th>max</th>\n",
       "      <td>14999.00</td>\n",
       "      <td>1.00</td>\n",
       "      <td>1.00</td>\n",
       "      <td>810.00</td>\n",
       "      <td>6.00</td>\n",
       "      <td>1.00</td>\n",
       "      <td>1.00</td>\n",
       "      <td>1.00</td>\n",
       "      <td>6.00</td>\n",
       "    </tr>\n",
       "  </tbody>\n",
       "</table>\n",
       "</div>"
      ],
      "text/plain": [
       "             id  satisfaction_level  last_evaluation  average_montly_hours  \\\n",
       "count  14999.00            14999.00         14999.00              14999.00   \n",
       "mean    7500.00                0.61             0.72                201.08   \n",
       "std     4329.98                0.25             0.17                 50.18   \n",
       "min        1.00                0.01             0.36                 96.00   \n",
       "25%     3750.50                0.44             0.56                156.00   \n",
       "50%     7500.00                0.64             0.72                200.00   \n",
       "75%    11249.50                0.82             0.87                245.00   \n",
       "max    14999.00                1.00             1.00                810.00   \n",
       "\n",
       "       time_spend_company  Work_accident      left  promotion_last_5years  \\\n",
       "count            14999.00       14999.00  14999.00               14999.00   \n",
       "mean                 3.41           0.14      0.24                   0.02   \n",
       "std                  1.18           0.35      0.43                   0.14   \n",
       "min                  2.00           0.00      0.00                   0.00   \n",
       "25%                  3.00           0.00      0.00                   0.00   \n",
       "50%                  3.00           0.00      0.00                   0.00   \n",
       "75%                  4.00           0.00      0.00                   0.00   \n",
       "max                  6.00           1.00      1.00                   1.00   \n",
       "\n",
       "       num_project  \n",
       "count     14999.00  \n",
       "mean          3.79  \n",
       "std           1.19  \n",
       "min           2.00  \n",
       "25%           3.00  \n",
       "50%           4.00  \n",
       "75%           5.00  \n",
       "max           6.00  "
      ]
     },
     "execution_count": 40,
     "metadata": {},
     "output_type": "execute_result"
    }
   ],
   "source": [
    "# descritivo das variáveis: medidas resumo\n",
    "colaborador.describe().round(2) #.round() arredonda para 2 casas decimais a funcao describe\n"
   ]
  },
  {
   "cell_type": "code",
   "execution_count": 41,
   "id": "e2a813ab",
   "metadata": {},
   "outputs": [
    {
     "name": "stdout",
     "output_type": "stream",
     "text": [
      "             id  satisfaction_level  last_evaluation  average_montly_hours  \\\n",
      "count  14999.00            14999.00         14999.00              14999.00   \n",
      "mean    7500.00                0.61             0.72                201.08   \n",
      "std     4329.98                0.25             0.17                 50.18   \n",
      "min        1.00                0.01             0.36                 96.00   \n",
      "25%     3750.50                0.44             0.56                156.00   \n",
      "50%     7500.00                0.64             0.72                200.00   \n",
      "75%    11249.50                0.82             0.87                245.00   \n",
      "max    14999.00                1.00             1.00                810.00   \n",
      "\n",
      "       time_spend_company  Work_accident      left  promotion_last_5years  \\\n",
      "count            14999.00       14999.00  14999.00               14999.00   \n",
      "mean                 3.41           0.14      0.24                   0.02   \n",
      "std                  1.18           0.35      0.43                   0.14   \n",
      "min                  2.00           0.00      0.00                   0.00   \n",
      "25%                  3.00           0.00      0.00                   0.00   \n",
      "50%                  3.00           0.00      0.00                   0.00   \n",
      "75%                  4.00           0.00      0.00                   0.00   \n",
      "max                  6.00           1.00      1.00                   1.00   \n",
      "\n",
      "       num_project  \n",
      "count     14999.00  \n",
      "mean          3.79  \n",
      "std           1.19  \n",
      "min           2.00  \n",
      "25%           3.00  \n",
      "50%           4.00  \n",
      "75%           5.00  \n",
      "max           6.00  \n"
     ]
    }
   ],
   "source": [
    "# descritivo das variáveis: medidas resumo guardando em uma tabela\n",
    "Describe=colaborador.describe().round(2)\n",
    "print(Describe)"
   ]
  },
  {
   "cell_type": "code",
   "execution_count": null,
   "id": "b53a5572",
   "metadata": {},
   "outputs": [],
   "source": [
    "# transformando duas variáveis em numéricas\n",
    "colaborador['satisfaction_level'] = colaborador['satisfaction_level'].astype(str)\n",
    "colaborador['satisfaction_level'] = colaborador['satisfaction_level'].str.replace(',', '.').astype(float)\n",
    "\n",
    "\n",
    "colaborador['last_evaluation'] = colaborador['last_evaluation'].astype(str)\n",
    "colaborador['last_evaluation'] = colaborador['last_evaluation'].str.replace(',', '.').astype(float)\n",
    "\n"
   ]
  },
  {
   "cell_type": "code",
   "execution_count": null,
   "id": "68c492e8",
   "metadata": {},
   "outputs": [],
   "source": [
    "#Preprocessing\n",
    "# mudar o formato da variável number para string\n",
    "colaborador['left'] = colaborador['left'].astype(str)\n",
    "\n"
   ]
  },
  {
   "cell_type": "code",
   "execution_count": null,
   "id": "62fb48a4",
   "metadata": {},
   "outputs": [],
   "source": [
    "colaborador.info()"
   ]
  },
  {
   "cell_type": "code",
   "execution_count": null,
   "id": "89ad7960",
   "metadata": {},
   "outputs": [],
   "source": [
    "colaborador.describe().round(2) #describe apenas para variaveis quantitativas"
   ]
  },
  {
   "cell_type": "code",
   "execution_count": 18,
   "id": "71a23819",
   "metadata": {},
   "outputs": [
    {
     "data": {
      "text/html": [
       "<div>\n",
       "<style scoped>\n",
       "    .dataframe tbody tr th:only-of-type {\n",
       "        vertical-align: middle;\n",
       "    }\n",
       "\n",
       "    .dataframe tbody tr th {\n",
       "        vertical-align: top;\n",
       "    }\n",
       "\n",
       "    .dataframe thead th {\n",
       "        text-align: right;\n",
       "    }\n",
       "</style>\n",
       "<table border=\"1\" class=\"dataframe\">\n",
       "  <thead>\n",
       "    <tr style=\"text-align: right;\">\n",
       "      <th></th>\n",
       "      <th>0</th>\n",
       "      <th>1</th>\n",
       "      <th>2</th>\n",
       "      <th>3</th>\n",
       "      <th>4</th>\n",
       "      <th>5</th>\n",
       "      <th>6</th>\n",
       "      <th>7</th>\n",
       "      <th>8</th>\n",
       "      <th>9</th>\n",
       "      <th>10</th>\n",
       "      <th>11</th>\n",
       "      <th>12</th>\n",
       "      <th>13</th>\n",
       "      <th>14</th>\n",
       "    </tr>\n",
       "  </thead>\n",
       "  <tbody>\n",
       "    <tr>\n",
       "      <th>id</th>\n",
       "      <td>1</td>\n",
       "      <td>2</td>\n",
       "      <td>3</td>\n",
       "      <td>4</td>\n",
       "      <td>5</td>\n",
       "      <td>6</td>\n",
       "      <td>7</td>\n",
       "      <td>8</td>\n",
       "      <td>9</td>\n",
       "      <td>10</td>\n",
       "      <td>11</td>\n",
       "      <td>12</td>\n",
       "      <td>13</td>\n",
       "      <td>14</td>\n",
       "      <td>15</td>\n",
       "    </tr>\n",
       "    <tr>\n",
       "      <th>satisfaction_level</th>\n",
       "      <td>0.38</td>\n",
       "      <td>0.8</td>\n",
       "      <td>0.11</td>\n",
       "      <td>0.72</td>\n",
       "      <td>0.37</td>\n",
       "      <td>0.41</td>\n",
       "      <td>0.1</td>\n",
       "      <td>0.92</td>\n",
       "      <td>0.89</td>\n",
       "      <td>0.42</td>\n",
       "      <td>0.45</td>\n",
       "      <td>0.11</td>\n",
       "      <td>0.84</td>\n",
       "      <td>0.41</td>\n",
       "      <td>0.36</td>\n",
       "    </tr>\n",
       "    <tr>\n",
       "      <th>last_evaluation</th>\n",
       "      <td>0.53</td>\n",
       "      <td>0.86</td>\n",
       "      <td>0.88</td>\n",
       "      <td>0.87</td>\n",
       "      <td>0.52</td>\n",
       "      <td>0.5</td>\n",
       "      <td>0.77</td>\n",
       "      <td>0.85</td>\n",
       "      <td>1.0</td>\n",
       "      <td>0.53</td>\n",
       "      <td>0.54</td>\n",
       "      <td>0.81</td>\n",
       "      <td>0.92</td>\n",
       "      <td>0.55</td>\n",
       "      <td>0.56</td>\n",
       "    </tr>\n",
       "    <tr>\n",
       "      <th>average_montly_hours</th>\n",
       "      <td>157</td>\n",
       "      <td>262</td>\n",
       "      <td>272</td>\n",
       "      <td>223</td>\n",
       "      <td>159</td>\n",
       "      <td>153</td>\n",
       "      <td>247</td>\n",
       "      <td>259</td>\n",
       "      <td>224</td>\n",
       "      <td>142</td>\n",
       "      <td>135</td>\n",
       "      <td>305</td>\n",
       "      <td>234</td>\n",
       "      <td>148</td>\n",
       "      <td>137</td>\n",
       "    </tr>\n",
       "    <tr>\n",
       "      <th>time_spend_company</th>\n",
       "      <td>3</td>\n",
       "      <td>6</td>\n",
       "      <td>4</td>\n",
       "      <td>5</td>\n",
       "      <td>3</td>\n",
       "      <td>3</td>\n",
       "      <td>4</td>\n",
       "      <td>5</td>\n",
       "      <td>5</td>\n",
       "      <td>3</td>\n",
       "      <td>3</td>\n",
       "      <td>4</td>\n",
       "      <td>5</td>\n",
       "      <td>3</td>\n",
       "      <td>3</td>\n",
       "    </tr>\n",
       "    <tr>\n",
       "      <th>Work_accident</th>\n",
       "      <td>0</td>\n",
       "      <td>0</td>\n",
       "      <td>0</td>\n",
       "      <td>0</td>\n",
       "      <td>0</td>\n",
       "      <td>0</td>\n",
       "      <td>0</td>\n",
       "      <td>0</td>\n",
       "      <td>0</td>\n",
       "      <td>0</td>\n",
       "      <td>0</td>\n",
       "      <td>0</td>\n",
       "      <td>0</td>\n",
       "      <td>0</td>\n",
       "      <td>0</td>\n",
       "    </tr>\n",
       "    <tr>\n",
       "      <th>left</th>\n",
       "      <td>1</td>\n",
       "      <td>1</td>\n",
       "      <td>1</td>\n",
       "      <td>1</td>\n",
       "      <td>1</td>\n",
       "      <td>1</td>\n",
       "      <td>1</td>\n",
       "      <td>1</td>\n",
       "      <td>1</td>\n",
       "      <td>1</td>\n",
       "      <td>1</td>\n",
       "      <td>1</td>\n",
       "      <td>1</td>\n",
       "      <td>1</td>\n",
       "      <td>1</td>\n",
       "    </tr>\n",
       "    <tr>\n",
       "      <th>promotion_last_5years</th>\n",
       "      <td>0</td>\n",
       "      <td>0</td>\n",
       "      <td>0</td>\n",
       "      <td>0</td>\n",
       "      <td>0</td>\n",
       "      <td>0</td>\n",
       "      <td>0</td>\n",
       "      <td>0</td>\n",
       "      <td>0</td>\n",
       "      <td>0</td>\n",
       "      <td>0</td>\n",
       "      <td>0</td>\n",
       "      <td>0</td>\n",
       "      <td>0</td>\n",
       "      <td>0</td>\n",
       "    </tr>\n",
       "    <tr>\n",
       "      <th>salary</th>\n",
       "      <td>low</td>\n",
       "      <td>medium</td>\n",
       "      <td>medium</td>\n",
       "      <td>low</td>\n",
       "      <td>low</td>\n",
       "      <td>low</td>\n",
       "      <td>low</td>\n",
       "      <td>low</td>\n",
       "      <td>low</td>\n",
       "      <td>low</td>\n",
       "      <td>low</td>\n",
       "      <td>low</td>\n",
       "      <td>low</td>\n",
       "      <td>low</td>\n",
       "      <td>low</td>\n",
       "    </tr>\n",
       "    <tr>\n",
       "      <th>num_project</th>\n",
       "      <td>2</td>\n",
       "      <td>5</td>\n",
       "      <td>6</td>\n",
       "      <td>5</td>\n",
       "      <td>2</td>\n",
       "      <td>2</td>\n",
       "      <td>6</td>\n",
       "      <td>5</td>\n",
       "      <td>5</td>\n",
       "      <td>2</td>\n",
       "      <td>2</td>\n",
       "      <td>6</td>\n",
       "      <td>4</td>\n",
       "      <td>2</td>\n",
       "      <td>2</td>\n",
       "    </tr>\n",
       "    <tr>\n",
       "      <th>depto</th>\n",
       "      <td>sales</td>\n",
       "      <td>sales</td>\n",
       "      <td>sales</td>\n",
       "      <td>sales</td>\n",
       "      <td>sales</td>\n",
       "      <td>sales</td>\n",
       "      <td>sales</td>\n",
       "      <td>sales</td>\n",
       "      <td>sales</td>\n",
       "      <td>sales</td>\n",
       "      <td>sales</td>\n",
       "      <td>sales</td>\n",
       "      <td>sales</td>\n",
       "      <td>sales</td>\n",
       "      <td>sales</td>\n",
       "    </tr>\n",
       "  </tbody>\n",
       "</table>\n",
       "</div>"
      ],
      "text/plain": [
       "                          0       1       2      3      4      5      6   \\\n",
       "id                         1       2       3      4      5      6      7   \n",
       "satisfaction_level      0.38     0.8    0.11   0.72   0.37   0.41    0.1   \n",
       "last_evaluation         0.53    0.86    0.88   0.87   0.52    0.5   0.77   \n",
       "average_montly_hours     157     262     272    223    159    153    247   \n",
       "time_spend_company         3       6       4      5      3      3      4   \n",
       "Work_accident              0       0       0      0      0      0      0   \n",
       "left                       1       1       1      1      1      1      1   \n",
       "promotion_last_5years      0       0       0      0      0      0      0   \n",
       "salary                   low  medium  medium    low    low    low    low   \n",
       "num_project                2       5       6      5      2      2      6   \n",
       "depto                  sales   sales   sales  sales  sales  sales  sales   \n",
       "\n",
       "                          7      8      9      10     11     12     13     14  \n",
       "id                         8      9     10     11     12     13     14     15  \n",
       "satisfaction_level      0.92   0.89   0.42   0.45   0.11   0.84   0.41   0.36  \n",
       "last_evaluation         0.85    1.0   0.53   0.54   0.81   0.92   0.55   0.56  \n",
       "average_montly_hours     259    224    142    135    305    234    148    137  \n",
       "time_spend_company         5      5      3      3      4      5      3      3  \n",
       "Work_accident              0      0      0      0      0      0      0      0  \n",
       "left                       1      1      1      1      1      1      1      1  \n",
       "promotion_last_5years      0      0      0      0      0      0      0      0  \n",
       "salary                   low    low    low    low    low    low    low    low  \n",
       "num_project                5      5      2      2      6      4      2      2  \n",
       "depto                  sales  sales  sales  sales  sales  sales  sales  sales  "
      ]
     },
     "execution_count": 18,
     "metadata": {},
     "output_type": "execute_result"
    }
   ],
   "source": [
    "colaborador.head(15).T #transpose .t muda a disposição, transformando linhas em colunas e vice versa"
   ]
  },
  {
   "cell_type": "code",
   "execution_count": 19,
   "id": "b7e56837",
   "metadata": {},
   "outputs": [
    {
     "name": "stdout",
     "output_type": "stream",
     "text": [
      "Collecting missingno\n",
      "  Downloading missingno-0.5.1-py3-none-any.whl (8.7 kB)\n",
      "Requirement already satisfied: seaborn in c:\\users\\joao note work\\anaconda3\\lib\\site-packages (from missingno) (0.11.2)\n",
      "Requirement already satisfied: matplotlib in c:\\users\\joao note work\\anaconda3\\lib\\site-packages (from missingno) (3.4.3)\n",
      "Requirement already satisfied: scipy in c:\\users\\joao note work\\anaconda3\\lib\\site-packages (from missingno) (1.7.1)\n",
      "Requirement already satisfied: numpy in c:\\users\\joao note work\\anaconda3\\lib\\site-packages (from missingno) (1.20.3)\n",
      "Requirement already satisfied: pillow>=6.2.0 in c:\\users\\joao note work\\anaconda3\\lib\\site-packages (from matplotlib->missingno) (8.4.0)\n",
      "Requirement already satisfied: python-dateutil>=2.7 in c:\\users\\joao note work\\anaconda3\\lib\\site-packages (from matplotlib->missingno) (2.8.2)\n",
      "Requirement already satisfied: kiwisolver>=1.0.1 in c:\\users\\joao note work\\anaconda3\\lib\\site-packages (from matplotlib->missingno) (1.3.1)\n",
      "Requirement already satisfied: pyparsing>=2.2.1 in c:\\users\\joao note work\\anaconda3\\lib\\site-packages (from matplotlib->missingno) (3.0.4)\n",
      "Requirement already satisfied: cycler>=0.10 in c:\\users\\joao note work\\anaconda3\\lib\\site-packages (from matplotlib->missingno) (0.10.0)\n",
      "Requirement already satisfied: six in c:\\users\\joao note work\\anaconda3\\lib\\site-packages (from cycler>=0.10->matplotlib->missingno) (1.16.0)\n",
      "Requirement already satisfied: pandas>=0.23 in c:\\users\\joao note work\\anaconda3\\lib\\site-packages (from seaborn->missingno) (1.3.4)\n",
      "Requirement already satisfied: pytz>=2017.3 in c:\\users\\joao note work\\anaconda3\\lib\\site-packages (from pandas>=0.23->seaborn->missingno) (2021.3)\n",
      "Installing collected packages: missingno\n",
      "Successfully installed missingno-0.5.1\n"
     ]
    },
    {
     "data": {
      "text/plain": [
       "<AxesSubplot:>"
      ]
     },
     "execution_count": 19,
     "metadata": {},
     "output_type": "execute_result"
    },
    {
     "data": {
      "image/png": "[encoded data removed]",
      "text/plain": [
       "<Figure size 1800x720 with 3 Axes>"
      ]
     },
     "metadata": {
      "needs_background": "light"
     },
     "output_type": "display_data"
    }
   ],
   "source": [
    "# Análise da completude das variáveis do banco de dados usando o gráfico de barra. No eixo \"Y\" é a frequência relativa e no \n",
    "# eixo \"X\" as variáveis.\n",
    "\n",
    "!pip install missingno\n",
    "import missingno as msno\n",
    "\n",
    "#biblioteca missingno serve para ver dados faltantes\n",
    "#.bar é o tipo de visualização em barras\n",
    "# Visualizando os dados faltantes? A biblioteca MissingNo permite a visualização dos dados nulos (‘NaN’) em seu datasetrt missno as msno\n",
    "msno.bar(colaborador)"
   ]
  },
  {
   "cell_type": "code",
   "execution_count": 20,
   "id": "4bad4f53",
   "metadata": {},
   "outputs": [
    {
     "data": {
      "text/plain": [
       "Index(['id', 'satisfaction_level', 'last_evaluation', 'average_montly_hours',\n",
       "       'time_spend_company', 'Work_accident', 'left', 'promotion_last_5years',\n",
       "       'salary', 'num_project', 'depto'],\n",
       "      dtype='object')"
      ]
     },
     "execution_count": 20,
     "metadata": {},
     "output_type": "execute_result"
    }
   ],
   "source": [
    "colaborador.columns #mostra as colunas"
   ]
  },
  {
   "cell_type": "code",
   "execution_count": 29,
   "id": "0285b332",
   "metadata": {},
   "outputs": [],
   "source": [
    "# CV \n",
    "# O coeficiente de variação é usado para analisar a dispersão em termos relativos a seu valor médio \n",
    "# quando duas ou mais séries de valores apresentam unidades de medida diferentes.\n",
    "# Dessa forma, podemos dizer que o coeficiente de variação é uma forma de expressar a variabilidade dos dados \n",
    "# excluindo a influência da ordem de grandeza da variável.\n",
    "# O cálculo do coeficiente de variação é feito através da fórmula:\n",
    "\n",
    "# CV= desvio padrão/média\n",
    "# Como o coeficiente de variação analisa a dispersão em termos relativos, ele será dado em %.\n",
    "# Quanto menor for o valor do coeficiente de variação, mais homogêneos serão os dados, ou seja,\n",
    "# menor será a dispersão em torno da média. \n",
    "# De uma forma geral, se o CV:\n",
    "# For menor ou igual a 15% → baixa dispersão: dados homogêneos\n",
    "# For entre 15 e 30% → média dispersão\n",
    "# For maior que 30% → alta dispersão: dados heterogêneos\n",
    "\n",
    "desc = colaborador.describe().T\n",
    "\n",
    "desc['CV'] = desc['std']/desc['mean']*100"
   ]
  },
  {
   "cell_type": "code",
   "execution_count": 30,
   "id": "0c64ecb5",
   "metadata": {},
   "outputs": [
    {
     "data": {
      "text/html": [
       "<div>\n",
       "<style scoped>\n",
       "    .dataframe tbody tr th:only-of-type {\n",
       "        vertical-align: middle;\n",
       "    }\n",
       "\n",
       "    .dataframe tbody tr th {\n",
       "        vertical-align: top;\n",
       "    }\n",
       "\n",
       "    .dataframe thead th {\n",
       "        text-align: right;\n",
       "    }\n",
       "</style>\n",
       "<table border=\"1\" class=\"dataframe\">\n",
       "  <thead>\n",
       "    <tr style=\"text-align: right;\">\n",
       "      <th></th>\n",
       "      <th>count</th>\n",
       "      <th>mean</th>\n",
       "      <th>std</th>\n",
       "      <th>min</th>\n",
       "      <th>25%</th>\n",
       "      <th>50%</th>\n",
       "      <th>75%</th>\n",
       "      <th>max</th>\n",
       "      <th>CV</th>\n",
       "    </tr>\n",
       "  </thead>\n",
       "  <tbody>\n",
       "    <tr>\n",
       "      <th>id</th>\n",
       "      <td>14999.0</td>\n",
       "      <td>7500.00</td>\n",
       "      <td>4329.98</td>\n",
       "      <td>1.00</td>\n",
       "      <td>3750.50</td>\n",
       "      <td>7500.00</td>\n",
       "      <td>11249.50</td>\n",
       "      <td>14999.0</td>\n",
       "      <td>57.73</td>\n",
       "    </tr>\n",
       "    <tr>\n",
       "      <th>satisfaction_level</th>\n",
       "      <td>14999.0</td>\n",
       "      <td>0.61</td>\n",
       "      <td>0.25</td>\n",
       "      <td>0.01</td>\n",
       "      <td>0.44</td>\n",
       "      <td>0.64</td>\n",
       "      <td>0.82</td>\n",
       "      <td>1.0</td>\n",
       "      <td>40.58</td>\n",
       "    </tr>\n",
       "    <tr>\n",
       "      <th>last_evaluation</th>\n",
       "      <td>14999.0</td>\n",
       "      <td>0.72</td>\n",
       "      <td>0.17</td>\n",
       "      <td>0.36</td>\n",
       "      <td>0.56</td>\n",
       "      <td>0.72</td>\n",
       "      <td>0.87</td>\n",
       "      <td>1.0</td>\n",
       "      <td>23.90</td>\n",
       "    </tr>\n",
       "    <tr>\n",
       "      <th>average_montly_hours</th>\n",
       "      <td>14999.0</td>\n",
       "      <td>201.08</td>\n",
       "      <td>50.18</td>\n",
       "      <td>96.00</td>\n",
       "      <td>156.00</td>\n",
       "      <td>200.00</td>\n",
       "      <td>245.00</td>\n",
       "      <td>810.0</td>\n",
       "      <td>24.96</td>\n",
       "    </tr>\n",
       "    <tr>\n",
       "      <th>time_spend_company</th>\n",
       "      <td>14999.0</td>\n",
       "      <td>3.41</td>\n",
       "      <td>1.18</td>\n",
       "      <td>2.00</td>\n",
       "      <td>3.00</td>\n",
       "      <td>3.00</td>\n",
       "      <td>4.00</td>\n",
       "      <td>6.0</td>\n",
       "      <td>34.52</td>\n",
       "    </tr>\n",
       "    <tr>\n",
       "      <th>Work_accident</th>\n",
       "      <td>14999.0</td>\n",
       "      <td>0.14</td>\n",
       "      <td>0.35</td>\n",
       "      <td>0.00</td>\n",
       "      <td>0.00</td>\n",
       "      <td>0.00</td>\n",
       "      <td>0.00</td>\n",
       "      <td>1.0</td>\n",
       "      <td>243.22</td>\n",
       "    </tr>\n",
       "    <tr>\n",
       "      <th>left</th>\n",
       "      <td>14999.0</td>\n",
       "      <td>0.24</td>\n",
       "      <td>0.43</td>\n",
       "      <td>0.00</td>\n",
       "      <td>0.00</td>\n",
       "      <td>0.00</td>\n",
       "      <td>0.00</td>\n",
       "      <td>1.0</td>\n",
       "      <td>178.90</td>\n",
       "    </tr>\n",
       "    <tr>\n",
       "      <th>promotion_last_5years</th>\n",
       "      <td>14999.0</td>\n",
       "      <td>0.02</td>\n",
       "      <td>0.14</td>\n",
       "      <td>0.00</td>\n",
       "      <td>0.00</td>\n",
       "      <td>0.00</td>\n",
       "      <td>0.00</td>\n",
       "      <td>1.0</td>\n",
       "      <td>678.39</td>\n",
       "    </tr>\n",
       "    <tr>\n",
       "      <th>num_project</th>\n",
       "      <td>14999.0</td>\n",
       "      <td>3.79</td>\n",
       "      <td>1.19</td>\n",
       "      <td>2.00</td>\n",
       "      <td>3.00</td>\n",
       "      <td>4.00</td>\n",
       "      <td>5.00</td>\n",
       "      <td>6.0</td>\n",
       "      <td>31.55</td>\n",
       "    </tr>\n",
       "  </tbody>\n",
       "</table>\n",
       "</div>"
      ],
      "text/plain": [
       "                         count     mean      std    min      25%      50%  \\\n",
       "id                     14999.0  7500.00  4329.98   1.00  3750.50  7500.00   \n",
       "satisfaction_level     14999.0     0.61     0.25   0.01     0.44     0.64   \n",
       "last_evaluation        14999.0     0.72     0.17   0.36     0.56     0.72   \n",
       "average_montly_hours   14999.0   201.08    50.18  96.00   156.00   200.00   \n",
       "time_spend_company     14999.0     3.41     1.18   2.00     3.00     3.00   \n",
       "Work_accident          14999.0     0.14     0.35   0.00     0.00     0.00   \n",
       "left                   14999.0     0.24     0.43   0.00     0.00     0.00   \n",
       "promotion_last_5years  14999.0     0.02     0.14   0.00     0.00     0.00   \n",
       "num_project            14999.0     3.79     1.19   2.00     3.00     4.00   \n",
       "\n",
       "                            75%      max      CV  \n",
       "id                     11249.50  14999.0   57.73  \n",
       "satisfaction_level         0.82      1.0   40.58  \n",
       "last_evaluation            0.87      1.0   23.90  \n",
       "average_montly_hours     245.00    810.0   24.96  \n",
       "time_spend_company         4.00      6.0   34.52  \n",
       "Work_accident              0.00      1.0  243.22  \n",
       "left                       0.00      1.0  178.90  \n",
       "promotion_last_5years      0.00      1.0  678.39  \n",
       "num_project                5.00      6.0   31.55  "
      ]
     },
     "execution_count": 30,
     "metadata": {},
     "output_type": "execute_result"
    }
   ],
   "source": [
    "desc.round(2)"
   ]
  },
  {
   "cell_type": "code",
   "execution_count": null,
   "id": "fe147bd5",
   "metadata": {},
   "outputs": [],
   "source": [
    "# Interpretação do CV\n",
    "\n",
    "# satisfaction_level: O desvio padrão é 0.41 vezes o valor da média. Isso indica presença de outliers?\n",
    "\n",
    "# Recomendado é até 0,3 ou 30%. Valores acima de 30% indicam presença de outliers. (Critério do IBGE)\n",
    "    \n"
   ]
  },
  {
   "attachments": {
    "image-3.png": {
     "image/png": "[encoded data removed]"
    }
   },
   "cell_type": "markdown",
   "id": "bc8fd327",
   "metadata": {},
   "source": [
    "#### Histograma\n",
    "#### O histograma é formado por retângulos cujas áreas representam frequências dos intervalos de suas classes. Esta apresentação é indicada para séries contínuas, e portanto não há espaço entre as barras.\n",
    "![image-3.png](attachment:image-3.png)"
   ]
  },
  {
   "cell_type": "code",
   "execution_count": 31,
   "id": "a0c32349",
   "metadata": {},
   "outputs": [
    {
     "data": {
      "text/plain": [
       "Text(0.5, 1.0, 'Histograma Nivel de Satisfação')"
      ]
     },
     "execution_count": 31,
     "metadata": {},
     "output_type": "execute_result"
    },
    {
     "data": {
      "image/png": "[encoded data removed]",
      "text/plain": [
       "<Figure size 432x288 with 1 Axes>"
      ]
     },
     "metadata": {
      "needs_background": "light"
     },
     "output_type": "display_data"
    }
   ],
   "source": [
    "# Histograma da variável satisfaction_level\n",
    "plt.hist(colaborador['satisfaction_level'], bins=5)\n",
    "plt.ylabel('Frequência')\n",
    "plt.xlabel('satisfaction_level')\n",
    "plt.title('Histograma Nivel de Satisfação')"
   ]
  },
  {
   "cell_type": "code",
   "execution_count": 33,
   "id": "d66af1e2",
   "metadata": {},
   "outputs": [
    {
     "data": {
      "text/plain": [
       "Text(0.5, 1.0, 'Histograma average_montly_hours')"
      ]
     },
     "execution_count": 33,
     "metadata": {},
     "output_type": "execute_result"
    },
    {
     "data": {
      "image/png": "[encoded data removed]",
      "text/plain": [
       "<Figure size 432x288 with 1 Axes>"
      ]
     },
     "metadata": {
      "needs_background": "light"
     },
     "output_type": "display_data"
    }
   ],
   "source": [
    "# Histograma da variável average_montly_hours\n",
    "plt.hist(colaborador['average_montly_hours'], bins=5)\n",
    "plt.ylabel('Frequência')\n",
    "plt.xlabel('average_montly_hours')\n",
    "plt.title('Histograma average_montly_hours')"
   ]
  },
  {
   "cell_type": "code",
   "execution_count": null,
   "id": "3c8581b1",
   "metadata": {},
   "outputs": [],
   "source": []
  },
  {
   "cell_type": "markdown",
   "id": "d9d420ff",
   "metadata": {},
   "source": [
    "#### O Box Plot (desenho esquemático) informa medidas de posição, dispersão, assimetria, caudas e dados atípicos (outliers). A posição central é dada pela mediana e a dispersão pela amplitude inter-quartílica. As medidas de posição q1, q2 e q3 informam a assimetria da distribuição. Os comprimentos das caudas são dados pelas linhas que vão do retângulo aos valores distantes e pelos valores atípicos.\n"
   ]
  },
  {
   "attachments": {
    "image.png": {
     "image/png": "[encoded data removed]"
    }
   },
   "cell_type": "markdown",
   "id": "f6286eb9",
   "metadata": {},
   "source": [
    "![image.png](attachment:image.png)"
   ]
  },
  {
   "cell_type": "code",
   "execution_count": 36,
   "id": "048b2f22",
   "metadata": {},
   "outputs": [
    {
     "data": {
      "image/png": "[encoded data removed]",
      "text/plain": [
       "<Figure size 432x288 with 1 Axes>"
      ]
     },
     "metadata": {
      "needs_background": "light"
     },
     "output_type": "display_data"
    }
   ],
   "source": [
    "# Boxplot da variável satisfaction_level\n",
    "sb.boxplot(y=\"satisfaction_level\", data=colaborador);"
   ]
  },
  {
   "cell_type": "code",
   "execution_count": 37,
   "id": "c8ba7647",
   "metadata": {},
   "outputs": [
    {
     "data": {
      "image/png": "[encoded data removed]",
      "text/plain": [
       "<Figure size 432x288 with 1 Axes>"
      ]
     },
     "metadata": {
      "needs_background": "light"
     },
     "output_type": "display_data"
    }
   ],
   "source": [
    "# Boxplot da variável average_montly_hours\n",
    "sb.boxplot(y=\"average_montly_hours\", data=colaborador)"
   ]
  },
  {
   "cell_type": "code",
   "execution_count": 47,
   "id": "6688027e",
   "metadata": {},
   "outputs": [
    {
     "data": {
      "image/png": "[encoded data removed]",
      "text/plain": [
       "<Figure size 432x288 with 1 Axes>"
      ]
     },
     "metadata": {
      "needs_background": "light"
     },
     "output_type": "display_data"
    }
   ],
   "source": [
    "# Boxplot da variável average_montly_hours\n",
    "sb.boxplot(y=\"average_montly_hours\", data=colaborador);"
   ]
  },
  {
   "cell_type": "code",
   "execution_count": 46,
   "id": "f50a1aef",
   "metadata": {},
   "outputs": [
    {
     "data": {
      "text/plain": [
       "<AxesSubplot:ylabel='satisfaction_level'>"
      ]
     },
     "execution_count": 46,
     "metadata": {},
     "output_type": "execute_result"
    },
    {
     "data": {
      "image/png": "[encoded data removed]",
      "text/plain": [
       "<Figure size 432x288 with 1 Axes>"
      ]
     },
     "metadata": {
      "needs_background": "light"
     },
     "output_type": "display_data"
    }
   ],
   "source": [
    "# Boxplot da variável satisfaction_level\n",
    "sb.boxplot(y=\"satisfaction_level\", data=colaborador)"
   ]
  },
  {
   "cell_type": "code",
   "execution_count": 49,
   "id": "c6994c8f",
   "metadata": {},
   "outputs": [
    {
     "data": {
      "text/plain": [
       "<AxesSubplot:xlabel='left', ylabel='satisfaction_level'>"
      ]
     },
     "execution_count": 49,
     "metadata": {},
     "output_type": "execute_result"
    },
    {
     "data": {
      "image/png": "[encoded data removed]",
      "text/plain": [
       "<Figure size 432x288 with 1 Axes>"
      ]
     },
     "metadata": {
      "needs_background": "light"
     },
     "output_type": "display_data"
    }
   ],
   "source": [
    "# Boxplot da variável last_evaluation versus a variável left\n",
    "sb.boxplot(x='left', y='satisfaction_level', data=colaborador, palette='hls')"
   ]
  },
  {
   "cell_type": "code",
   "execution_count": 41,
   "id": "9c7e2acf",
   "metadata": {},
   "outputs": [
    {
     "data": {
      "text/html": [
       "<div>\n",
       "<style scoped>\n",
       "    .dataframe tbody tr th:only-of-type {\n",
       "        vertical-align: middle;\n",
       "    }\n",
       "\n",
       "    .dataframe tbody tr th {\n",
       "        vertical-align: top;\n",
       "    }\n",
       "\n",
       "    .dataframe thead th {\n",
       "        text-align: right;\n",
       "    }\n",
       "</style>\n",
       "<table border=\"1\" class=\"dataframe\">\n",
       "  <thead>\n",
       "    <tr style=\"text-align: right;\">\n",
       "      <th></th>\n",
       "      <th>id</th>\n",
       "      <th>satisfaction_level</th>\n",
       "      <th>last_evaluation</th>\n",
       "      <th>average_montly_hours</th>\n",
       "      <th>time_spend_company</th>\n",
       "      <th>Work_accident</th>\n",
       "      <th>left</th>\n",
       "      <th>promotion_last_5years</th>\n",
       "      <th>num_project</th>\n",
       "    </tr>\n",
       "  </thead>\n",
       "  <tbody>\n",
       "    <tr>\n",
       "      <th>count</th>\n",
       "      <td>14999.00</td>\n",
       "      <td>14999.00</td>\n",
       "      <td>14999.00</td>\n",
       "      <td>14999.00</td>\n",
       "      <td>14999.00</td>\n",
       "      <td>14999.00</td>\n",
       "      <td>14999.00</td>\n",
       "      <td>14999.00</td>\n",
       "      <td>14999.00</td>\n",
       "    </tr>\n",
       "    <tr>\n",
       "      <th>mean</th>\n",
       "      <td>7500.00</td>\n",
       "      <td>0.61</td>\n",
       "      <td>0.72</td>\n",
       "      <td>201.08</td>\n",
       "      <td>3.41</td>\n",
       "      <td>0.14</td>\n",
       "      <td>0.24</td>\n",
       "      <td>0.02</td>\n",
       "      <td>3.79</td>\n",
       "    </tr>\n",
       "    <tr>\n",
       "      <th>std</th>\n",
       "      <td>4329.98</td>\n",
       "      <td>0.25</td>\n",
       "      <td>0.17</td>\n",
       "      <td>50.18</td>\n",
       "      <td>1.18</td>\n",
       "      <td>0.35</td>\n",
       "      <td>0.43</td>\n",
       "      <td>0.14</td>\n",
       "      <td>1.19</td>\n",
       "    </tr>\n",
       "    <tr>\n",
       "      <th>min</th>\n",
       "      <td>1.00</td>\n",
       "      <td>0.01</td>\n",
       "      <td>0.36</td>\n",
       "      <td>96.00</td>\n",
       "      <td>2.00</td>\n",
       "      <td>0.00</td>\n",
       "      <td>0.00</td>\n",
       "      <td>0.00</td>\n",
       "      <td>2.00</td>\n",
       "    </tr>\n",
       "    <tr>\n",
       "      <th>25%</th>\n",
       "      <td>3750.50</td>\n",
       "      <td>0.44</td>\n",
       "      <td>0.56</td>\n",
       "      <td>156.00</td>\n",
       "      <td>3.00</td>\n",
       "      <td>0.00</td>\n",
       "      <td>0.00</td>\n",
       "      <td>0.00</td>\n",
       "      <td>3.00</td>\n",
       "    </tr>\n",
       "    <tr>\n",
       "      <th>50%</th>\n",
       "      <td>7500.00</td>\n",
       "      <td>0.64</td>\n",
       "      <td>0.72</td>\n",
       "      <td>200.00</td>\n",
       "      <td>3.00</td>\n",
       "      <td>0.00</td>\n",
       "      <td>0.00</td>\n",
       "      <td>0.00</td>\n",
       "      <td>4.00</td>\n",
       "    </tr>\n",
       "    <tr>\n",
       "      <th>75%</th>\n",
       "      <td>11249.50</td>\n",
       "      <td>0.82</td>\n",
       "      <td>0.87</td>\n",
       "      <td>245.00</td>\n",
       "      <td>4.00</td>\n",
       "      <td>0.00</td>\n",
       "      <td>0.00</td>\n",
       "      <td>0.00</td>\n",
       "      <td>5.00</td>\n",
       "    </tr>\n",
       "    <tr>\n",
       "      <th>max</th>\n",
       "      <td>14999.00</td>\n",
       "      <td>1.00</td>\n",
       "      <td>1.00</td>\n",
       "      <td>810.00</td>\n",
       "      <td>6.00</td>\n",
       "      <td>1.00</td>\n",
       "      <td>1.00</td>\n",
       "      <td>1.00</td>\n",
       "      <td>6.00</td>\n",
       "    </tr>\n",
       "  </tbody>\n",
       "</table>\n",
       "</div>"
      ],
      "text/plain": [
       "             id  satisfaction_level  last_evaluation  average_montly_hours  \\\n",
       "count  14999.00            14999.00         14999.00              14999.00   \n",
       "mean    7500.00                0.61             0.72                201.08   \n",
       "std     4329.98                0.25             0.17                 50.18   \n",
       "min        1.00                0.01             0.36                 96.00   \n",
       "25%     3750.50                0.44             0.56                156.00   \n",
       "50%     7500.00                0.64             0.72                200.00   \n",
       "75%    11249.50                0.82             0.87                245.00   \n",
       "max    14999.00                1.00             1.00                810.00   \n",
       "\n",
       "       time_spend_company  Work_accident      left  promotion_last_5years  \\\n",
       "count            14999.00       14999.00  14999.00               14999.00   \n",
       "mean                 3.41           0.14      0.24                   0.02   \n",
       "std                  1.18           0.35      0.43                   0.14   \n",
       "min                  2.00           0.00      0.00                   0.00   \n",
       "25%                  3.00           0.00      0.00                   0.00   \n",
       "50%                  3.00           0.00      0.00                   0.00   \n",
       "75%                  4.00           0.00      0.00                   0.00   \n",
       "max                  6.00           1.00      1.00                   1.00   \n",
       "\n",
       "       num_project  \n",
       "count     14999.00  \n",
       "mean          3.79  \n",
       "std           1.19  \n",
       "min           2.00  \n",
       "25%           3.00  \n",
       "50%           4.00  \n",
       "75%           5.00  \n",
       "max           6.00  "
      ]
     },
     "execution_count": 41,
     "metadata": {},
     "output_type": "execute_result"
    }
   ],
   "source": [
    "colaborador.describe().round(2)"
   ]
  },
  {
   "cell_type": "code",
   "execution_count": 50,
   "id": "24fcea89",
   "metadata": {},
   "outputs": [
    {
     "name": "stdout",
     "output_type": "stream",
     "text": [
      "Minimo =  0.01\n"
     ]
    }
   ],
   "source": [
    "print('Minimo = ', min(colaborador['satisfaction_level']))"
   ]
  },
  {
   "cell_type": "code",
   "execution_count": 51,
   "id": "a2bc560f",
   "metadata": {},
   "outputs": [
    {
     "name": "stdout",
     "output_type": "stream",
     "text": [
      "Maximo =  1.0\n"
     ]
    }
   ],
   "source": [
    "print('Maximo = ', max(colaborador['satisfaction_level']))"
   ]
  },
  {
   "cell_type": "code",
   "execution_count": 54,
   "id": "e502f7c6",
   "metadata": {},
   "outputs": [
    {
     "name": "stdout",
     "output_type": "stream",
     "text": [
      "0.44\n",
      "Quartil1 (Q1) = , 0.44\n"
     ]
    }
   ],
   "source": [
    "Q1 = np.percentile(colaborador['satisfaction_level'], 25)\n",
    "print(Q1)\n",
    "print(f\"Quartil1 (Q1) = , {Q1}\")"
   ]
  },
  {
   "cell_type": "code",
   "execution_count": 55,
   "id": "83837cff",
   "metadata": {},
   "outputs": [
    {
     "name": "stdout",
     "output_type": "stream",
     "text": [
      "0.64\n",
      "Quartil2 (Q2) =  0.64\n"
     ]
    }
   ],
   "source": [
    "Q2=np.percentile(colaborador['satisfaction_level'], 50)\n",
    "print(Q2)\n",
    "print('Quartil2 (Q2) = ', np.percentile(colaborador['satisfaction_level'], 50))"
   ]
  },
  {
   "cell_type": "code",
   "execution_count": 56,
   "id": "06c46311",
   "metadata": {},
   "outputs": [
    {
     "name": "stdout",
     "output_type": "stream",
     "text": [
      "0.82\n",
      "Quartil3 (Q3) =  0.82\n"
     ]
    }
   ],
   "source": [
    "Q3=np.percentile(colaborador['satisfaction_level'], 75)\n",
    "print(Q3)\n",
    "print('Quartil3 (Q3) = ', np.percentile(colaborador['satisfaction_level'], 75))"
   ]
  },
  {
   "cell_type": "code",
   "execution_count": 57,
   "id": "1aeb0712",
   "metadata": {},
   "outputs": [
    {
     "name": "stdout",
     "output_type": "stream",
     "text": [
      "0.37999999999999995\n",
      "Inter-quartil (IQ) = 0.37999999999999995\n"
     ]
    }
   ],
   "source": [
    "IQ = np.percentile(colaborador['satisfaction_level'], 75) - np.percentile(colaborador['satisfaction_level'], 25)\n",
    "print(IQ)\n",
    "print('Inter-quartil (IQ) =', np.percentile(colaborador['satisfaction_level'], 75) - np.percentile(colaborador['satisfaction_level'], 25))"
   ]
  },
  {
   "cell_type": "code",
   "execution_count": 58,
   "id": "5a1cd1e8",
   "metadata": {},
   "outputs": [
    {
     "name": "stdout",
     "output_type": "stream",
     "text": [
      "1.96\n"
     ]
    }
   ],
   "source": [
    "limite1 = Q3+3*IQ\n",
    "print(limite1)"
   ]
  },
  {
   "cell_type": "code",
   "execution_count": 59,
   "id": "bb00974e",
   "metadata": {},
   "outputs": [
    {
     "name": "stdout",
     "output_type": "stream",
     "text": [
      "1.39\n"
     ]
    }
   ],
   "source": [
    "limite2 = Q3+1.5*IQ\n",
    "print(limite2)"
   ]
  },
  {
   "cell_type": "code",
   "execution_count": 60,
   "id": "b934309a",
   "metadata": {},
   "outputs": [
    {
     "name": "stdout",
     "output_type": "stream",
     "text": [
      "-0.12999999999999995\n"
     ]
    }
   ],
   "source": [
    "limite3=Q1-1.5*IQ\n",
    "print(limite3)"
   ]
  },
  {
   "cell_type": "code",
   "execution_count": 61,
   "id": "4b918927",
   "metadata": {},
   "outputs": [
    {
     "name": "stdout",
     "output_type": "stream",
     "text": [
      "-0.7\n"
     ]
    }
   ],
   "source": [
    "limite4 = Q1-3*IQ\n",
    "print(limite4)"
   ]
  },
  {
   "cell_type": "code",
   "execution_count": 62,
   "id": "0e294b81",
   "metadata": {},
   "outputs": [
    {
     "data": {
      "text/plain": [
       "depto\n",
       "IT             0.618142\n",
       "RandD          0.619822\n",
       "accounting     0.582151\n",
       "hr             0.598809\n",
       "management     0.621349\n",
       "marketing      0.618601\n",
       "product_mng    0.619634\n",
       "sales          0.614428\n",
       "support        0.618300\n",
       "technical      0.607868\n",
       "Name: satisfaction_level, dtype: float64"
      ]
     },
     "execution_count": 62,
     "metadata": {},
     "output_type": "execute_result"
    }
   ],
   "source": [
    "# Calculando nivel de satisfação médio por depto\n",
    "C_mean=colaborador['satisfaction_level'].groupby(by=colaborador.depto).mean()\n",
    "\n",
    "# exibindo\n",
    "C_mean"
   ]
  },
  {
   "cell_type": "code",
   "execution_count": 63,
   "id": "bbc4f530",
   "metadata": {},
   "outputs": [
    {
     "data": {
      "text/plain": [
       "depto\n",
       "accounting     0.582151\n",
       "hr             0.598809\n",
       "technical      0.607868\n",
       "sales          0.614428\n",
       "IT             0.618142\n",
       "support        0.618300\n",
       "marketing      0.618601\n",
       "product_mng    0.619634\n",
       "RandD          0.619822\n",
       "management     0.621349\n",
       "Name: satisfaction_level, dtype: float64"
      ]
     },
     "execution_count": 63,
     "metadata": {},
     "output_type": "execute_result"
    }
   ],
   "source": [
    "# ordenação ( opcional mas recomendável \"storytelling\")\n",
    "\n",
    "C_mean.sort_values()\n",
    "\n"
   ]
  },
  {
   "cell_type": "code",
   "execution_count": 64,
   "id": "7e43fc74",
   "metadata": {},
   "outputs": [
    {
     "data": {
      "image/png": "[encoded data removed]",
      "text/plain": [
       "<Figure size 432x288 with 1 Axes>"
      ]
     },
     "metadata": {
      "needs_background": "light"
     },
     "output_type": "display_data"
    }
   ],
   "source": [
    "# Visualização do nível de satisfação\n",
    "fig=plt.figure() \n",
    "C_mean.plot( kind='barh', title='nível de satisfação por depto')\n",
    "plt.grid()\n",
    "sb.despine()\n",
    "plt.show()\n"
   ]
  },
  {
   "cell_type": "markdown",
   "id": "b8ceeddf",
   "metadata": {},
   "source": [
    "#### Em algumas análises precisamos fazer transformações de variáveis\n",
    "A escala das variáveis pode afetar muito a qualidade das predições. Alguns algoritmos darão preferência para utilizar variáveis com valores muito alto. Padronizar as variáveis contínuas para todas terem média de 0 e desvio-padrão de 1 ou normalizar gerando valores dentre 0,0 a 1,0."
   ]
  },
  {
   "cell_type": "code",
   "execution_count": null,
   "id": "348415c3",
   "metadata": {},
   "outputs": [],
   "source": [
    "# Em algumas análises precisamos fazer transformações de variáveis\n",
    "\n",
    "# Novamente Histograma da variável satisfaction_level\n",
    "\n",
    "#tipos de transformacao\n",
    "#normalizacao\n",
    "#padronizacao\n"
   ]
  },
  {
   "attachments": {
    "image-2.png": {
     "image/png": "[encoded data removed]"
    },
    "image.png": {
     "image/png": "[encoded data removed]"
    }
   },
   "cell_type": "markdown",
   "id": "25385005",
   "metadata": {},
   "source": [
    "#### Transformação de variáveis: Normatização Min-Max\n",
    "####  => os dados de um atributo são normalizados gerando valores  entre  0,0 a 1,0.\n",
    "![image-2.png](attachment:image-2.png)\n",
    " ![image.png](attachment:image.png)"
   ]
  },
  {
   "cell_type": "code",
   "execution_count": 70,
   "id": "cbb5314b",
   "metadata": {},
   "outputs": [],
   "source": [
    "colaborador['satisfaction_norm']  = (colaborador['satisfaction_level'] - min(colaborador['satisfaction_level'])) /( max(colaborador['satisfaction_level']) - min(colaborador['satisfaction_level'])) "
   ]
  },
  {
   "cell_type": "code",
   "execution_count": 69,
   "id": "5ee4e774",
   "metadata": {},
   "outputs": [],
   "source": [
    "colaborador['average_montly_hours_norm']  = (colaborador['average_montly_hours'] - min(colaborador['average_montly_hours'])) /( max(colaborador['average_montly_hours']) - min(colaborador['average_montly_hours'])) "
   ]
  },
  {
   "cell_type": "code",
   "execution_count": 71,
   "id": "ce787f43",
   "metadata": {},
   "outputs": [
    {
     "data": {
      "text/html": [
       "<div>\n",
       "<style scoped>\n",
       "    .dataframe tbody tr th:only-of-type {\n",
       "        vertical-align: middle;\n",
       "    }\n",
       "\n",
       "    .dataframe tbody tr th {\n",
       "        vertical-align: top;\n",
       "    }\n",
       "\n",
       "    .dataframe thead th {\n",
       "        text-align: right;\n",
       "    }\n",
       "</style>\n",
       "<table border=\"1\" class=\"dataframe\">\n",
       "  <thead>\n",
       "    <tr style=\"text-align: right;\">\n",
       "      <th></th>\n",
       "      <th>count</th>\n",
       "      <th>mean</th>\n",
       "      <th>std</th>\n",
       "      <th>min</th>\n",
       "      <th>25%</th>\n",
       "      <th>50%</th>\n",
       "      <th>75%</th>\n",
       "      <th>max</th>\n",
       "    </tr>\n",
       "  </thead>\n",
       "  <tbody>\n",
       "    <tr>\n",
       "      <th>id</th>\n",
       "      <td>14999.0</td>\n",
       "      <td>7500.00</td>\n",
       "      <td>4329.98</td>\n",
       "      <td>1.00</td>\n",
       "      <td>3750.50</td>\n",
       "      <td>7500.00</td>\n",
       "      <td>11249.50</td>\n",
       "      <td>14999.0</td>\n",
       "    </tr>\n",
       "    <tr>\n",
       "      <th>satisfaction_level</th>\n",
       "      <td>14999.0</td>\n",
       "      <td>0.61</td>\n",
       "      <td>0.25</td>\n",
       "      <td>0.01</td>\n",
       "      <td>0.44</td>\n",
       "      <td>0.64</td>\n",
       "      <td>0.82</td>\n",
       "      <td>1.0</td>\n",
       "    </tr>\n",
       "    <tr>\n",
       "      <th>last_evaluation</th>\n",
       "      <td>14999.0</td>\n",
       "      <td>0.72</td>\n",
       "      <td>0.17</td>\n",
       "      <td>0.36</td>\n",
       "      <td>0.56</td>\n",
       "      <td>0.72</td>\n",
       "      <td>0.87</td>\n",
       "      <td>1.0</td>\n",
       "    </tr>\n",
       "    <tr>\n",
       "      <th>average_montly_hours</th>\n",
       "      <td>14999.0</td>\n",
       "      <td>201.08</td>\n",
       "      <td>50.18</td>\n",
       "      <td>96.00</td>\n",
       "      <td>156.00</td>\n",
       "      <td>200.00</td>\n",
       "      <td>245.00</td>\n",
       "      <td>810.0</td>\n",
       "    </tr>\n",
       "    <tr>\n",
       "      <th>time_spend_company</th>\n",
       "      <td>14999.0</td>\n",
       "      <td>3.41</td>\n",
       "      <td>1.18</td>\n",
       "      <td>2.00</td>\n",
       "      <td>3.00</td>\n",
       "      <td>3.00</td>\n",
       "      <td>4.00</td>\n",
       "      <td>6.0</td>\n",
       "    </tr>\n",
       "    <tr>\n",
       "      <th>Work_accident</th>\n",
       "      <td>14999.0</td>\n",
       "      <td>0.14</td>\n",
       "      <td>0.35</td>\n",
       "      <td>0.00</td>\n",
       "      <td>0.00</td>\n",
       "      <td>0.00</td>\n",
       "      <td>0.00</td>\n",
       "      <td>1.0</td>\n",
       "    </tr>\n",
       "    <tr>\n",
       "      <th>left</th>\n",
       "      <td>14999.0</td>\n",
       "      <td>0.24</td>\n",
       "      <td>0.43</td>\n",
       "      <td>0.00</td>\n",
       "      <td>0.00</td>\n",
       "      <td>0.00</td>\n",
       "      <td>0.00</td>\n",
       "      <td>1.0</td>\n",
       "    </tr>\n",
       "    <tr>\n",
       "      <th>promotion_last_5years</th>\n",
       "      <td>14999.0</td>\n",
       "      <td>0.02</td>\n",
       "      <td>0.14</td>\n",
       "      <td>0.00</td>\n",
       "      <td>0.00</td>\n",
       "      <td>0.00</td>\n",
       "      <td>0.00</td>\n",
       "      <td>1.0</td>\n",
       "    </tr>\n",
       "    <tr>\n",
       "      <th>num_project</th>\n",
       "      <td>14999.0</td>\n",
       "      <td>3.79</td>\n",
       "      <td>1.19</td>\n",
       "      <td>2.00</td>\n",
       "      <td>3.00</td>\n",
       "      <td>4.00</td>\n",
       "      <td>5.00</td>\n",
       "      <td>6.0</td>\n",
       "    </tr>\n",
       "    <tr>\n",
       "      <th>average_montly_hours_norm</th>\n",
       "      <td>14999.0</td>\n",
       "      <td>0.15</td>\n",
       "      <td>0.07</td>\n",
       "      <td>0.00</td>\n",
       "      <td>0.08</td>\n",
       "      <td>0.15</td>\n",
       "      <td>0.21</td>\n",
       "      <td>1.0</td>\n",
       "    </tr>\n",
       "    <tr>\n",
       "      <th>satisfaction_norm</th>\n",
       "      <td>14999.0</td>\n",
       "      <td>0.61</td>\n",
       "      <td>0.25</td>\n",
       "      <td>0.00</td>\n",
       "      <td>0.43</td>\n",
       "      <td>0.64</td>\n",
       "      <td>0.82</td>\n",
       "      <td>1.0</td>\n",
       "    </tr>\n",
       "  </tbody>\n",
       "</table>\n",
       "</div>"
      ],
      "text/plain": [
       "                             count     mean      std    min      25%      50%  \\\n",
       "id                         14999.0  7500.00  4329.98   1.00  3750.50  7500.00   \n",
       "satisfaction_level         14999.0     0.61     0.25   0.01     0.44     0.64   \n",
       "last_evaluation            14999.0     0.72     0.17   0.36     0.56     0.72   \n",
       "average_montly_hours       14999.0   201.08    50.18  96.00   156.00   200.00   \n",
       "time_spend_company         14999.0     3.41     1.18   2.00     3.00     3.00   \n",
       "Work_accident              14999.0     0.14     0.35   0.00     0.00     0.00   \n",
       "left                       14999.0     0.24     0.43   0.00     0.00     0.00   \n",
       "promotion_last_5years      14999.0     0.02     0.14   0.00     0.00     0.00   \n",
       "num_project                14999.0     3.79     1.19   2.00     3.00     4.00   \n",
       "average_montly_hours_norm  14999.0     0.15     0.07   0.00     0.08     0.15   \n",
       "satisfaction_norm          14999.0     0.61     0.25   0.00     0.43     0.64   \n",
       "\n",
       "                                75%      max  \n",
       "id                         11249.50  14999.0  \n",
       "satisfaction_level             0.82      1.0  \n",
       "last_evaluation                0.87      1.0  \n",
       "average_montly_hours         245.00    810.0  \n",
       "time_spend_company             4.00      6.0  \n",
       "Work_accident                  0.00      1.0  \n",
       "left                           0.00      1.0  \n",
       "promotion_last_5years          0.00      1.0  \n",
       "num_project                    5.00      6.0  \n",
       "average_montly_hours_norm      0.21      1.0  \n",
       "satisfaction_norm              0.82      1.0  "
      ]
     },
     "execution_count": 71,
     "metadata": {},
     "output_type": "execute_result"
    }
   ],
   "source": [
    "colaborador.describe().round(2).T"
   ]
  },
  {
   "cell_type": "code",
   "execution_count": 73,
   "id": "f60e8a5d",
   "metadata": {},
   "outputs": [
    {
     "data": {
      "text/plain": [
       "Text(0.5, 1.0, 'Histograma Nivel de Satisfação Normatizada')"
      ]
     },
     "execution_count": 73,
     "metadata": {},
     "output_type": "execute_result"
    },
    {
     "data": {
      "image/png": "[encoded data removed]",
      "text/plain": [
       "<Figure size 432x288 with 1 Axes>"
      ]
     },
     "metadata": {
      "needs_background": "light"
     },
     "output_type": "display_data"
    }
   ],
   "source": [
    "# Histograma da variável satisfaction_level normatizada\n",
    "\n",
    "plt.hist(colaborador['average_montly_hours_norm'], bins=5)\n",
    "plt.ylabel('Frequência')\n",
    "plt.xlabel('average_montly_hours_norm')\n",
    "plt.title('Histograma Nivel de Satisfação Normatizada')"
   ]
  },
  {
   "cell_type": "code",
   "execution_count": 72,
   "id": "c0c5c05f",
   "metadata": {},
   "outputs": [
    {
     "data": {
      "text/plain": [
       "Text(0.5, 1.0, 'Histograma Nivel de Satisfação Normatizada')"
      ]
     },
     "execution_count": 72,
     "metadata": {},
     "output_type": "execute_result"
    },
    {
     "data": {
      "image/png": "[encoded data removed]",
      "text/plain": [
       "<Figure size 432x288 with 1 Axes>"
      ]
     },
     "metadata": {
      "needs_background": "light"
     },
     "output_type": "display_data"
    }
   ],
   "source": [
    "# Histograma da variável satisfaction_level normatizada\n",
    "\n",
    "plt.hist(colaborador['satisfaction_norm'], bins=5)\n",
    "plt.ylabel('Frequência')\n",
    "plt.xlabel('satisfaction_level')\n",
    "plt.title('Histograma Nivel de Satisfação Normatizada')"
   ]
  },
  {
   "attachments": {
    "image.png": {
     "image/png": "[encoded data removed]"
    }
   },
   "cell_type": "markdown",
   "id": "bcc0e269",
   "metadata": {},
   "source": [
    "#### Transformação de variáveis: Padronização\n",
    "#### Transforma os valores em números de desvios padrões a partir da média.\n",
    "![image.png](attachment:image.png)"
   ]
  },
  {
   "cell_type": "code",
   "execution_count": 74,
   "id": "6f994342",
   "metadata": {},
   "outputs": [],
   "source": [
    "colaborador['satisfaction_padr'] = (colaborador['satisfaction_level'] - np.mean(colaborador['satisfaction_level']) )/np.std(colaborador['satisfaction_level'])"
   ]
  },
  {
   "cell_type": "code",
   "execution_count": 78,
   "id": "7951d381",
   "metadata": {},
   "outputs": [
    {
     "data": {
      "text/html": [
       "<div>\n",
       "<style scoped>\n",
       "    .dataframe tbody tr th:only-of-type {\n",
       "        vertical-align: middle;\n",
       "    }\n",
       "\n",
       "    .dataframe tbody tr th {\n",
       "        vertical-align: top;\n",
       "    }\n",
       "\n",
       "    .dataframe thead th {\n",
       "        text-align: right;\n",
       "    }\n",
       "</style>\n",
       "<table border=\"1\" class=\"dataframe\">\n",
       "  <thead>\n",
       "    <tr style=\"text-align: right;\">\n",
       "      <th></th>\n",
       "      <th>count</th>\n",
       "      <th>mean</th>\n",
       "      <th>std</th>\n",
       "      <th>min</th>\n",
       "      <th>25%</th>\n",
       "      <th>50%</th>\n",
       "      <th>75%</th>\n",
       "      <th>max</th>\n",
       "    </tr>\n",
       "  </thead>\n",
       "  <tbody>\n",
       "    <tr>\n",
       "      <th>id</th>\n",
       "      <td>14999.0</td>\n",
       "      <td>7500.00</td>\n",
       "      <td>4329.98</td>\n",
       "      <td>1.00</td>\n",
       "      <td>3750.50</td>\n",
       "      <td>7500.00</td>\n",
       "      <td>11249.50</td>\n",
       "      <td>14999.00</td>\n",
       "    </tr>\n",
       "    <tr>\n",
       "      <th>satisfaction_level</th>\n",
       "      <td>14999.0</td>\n",
       "      <td>0.61</td>\n",
       "      <td>0.25</td>\n",
       "      <td>0.01</td>\n",
       "      <td>0.44</td>\n",
       "      <td>0.64</td>\n",
       "      <td>0.82</td>\n",
       "      <td>1.00</td>\n",
       "    </tr>\n",
       "    <tr>\n",
       "      <th>last_evaluation</th>\n",
       "      <td>14999.0</td>\n",
       "      <td>0.72</td>\n",
       "      <td>0.17</td>\n",
       "      <td>0.36</td>\n",
       "      <td>0.56</td>\n",
       "      <td>0.72</td>\n",
       "      <td>0.87</td>\n",
       "      <td>1.00</td>\n",
       "    </tr>\n",
       "    <tr>\n",
       "      <th>average_montly_hours</th>\n",
       "      <td>14999.0</td>\n",
       "      <td>201.08</td>\n",
       "      <td>50.18</td>\n",
       "      <td>96.00</td>\n",
       "      <td>156.00</td>\n",
       "      <td>200.00</td>\n",
       "      <td>245.00</td>\n",
       "      <td>810.00</td>\n",
       "    </tr>\n",
       "    <tr>\n",
       "      <th>time_spend_company</th>\n",
       "      <td>14999.0</td>\n",
       "      <td>3.41</td>\n",
       "      <td>1.18</td>\n",
       "      <td>2.00</td>\n",
       "      <td>3.00</td>\n",
       "      <td>3.00</td>\n",
       "      <td>4.00</td>\n",
       "      <td>6.00</td>\n",
       "    </tr>\n",
       "    <tr>\n",
       "      <th>Work_accident</th>\n",
       "      <td>14999.0</td>\n",
       "      <td>0.14</td>\n",
       "      <td>0.35</td>\n",
       "      <td>0.00</td>\n",
       "      <td>0.00</td>\n",
       "      <td>0.00</td>\n",
       "      <td>0.00</td>\n",
       "      <td>1.00</td>\n",
       "    </tr>\n",
       "    <tr>\n",
       "      <th>left</th>\n",
       "      <td>14999.0</td>\n",
       "      <td>0.24</td>\n",
       "      <td>0.43</td>\n",
       "      <td>0.00</td>\n",
       "      <td>0.00</td>\n",
       "      <td>0.00</td>\n",
       "      <td>0.00</td>\n",
       "      <td>1.00</td>\n",
       "    </tr>\n",
       "    <tr>\n",
       "      <th>promotion_last_5years</th>\n",
       "      <td>14999.0</td>\n",
       "      <td>0.02</td>\n",
       "      <td>0.14</td>\n",
       "      <td>0.00</td>\n",
       "      <td>0.00</td>\n",
       "      <td>0.00</td>\n",
       "      <td>0.00</td>\n",
       "      <td>1.00</td>\n",
       "    </tr>\n",
       "    <tr>\n",
       "      <th>num_project</th>\n",
       "      <td>14999.0</td>\n",
       "      <td>3.79</td>\n",
       "      <td>1.19</td>\n",
       "      <td>2.00</td>\n",
       "      <td>3.00</td>\n",
       "      <td>4.00</td>\n",
       "      <td>5.00</td>\n",
       "      <td>6.00</td>\n",
       "    </tr>\n",
       "    <tr>\n",
       "      <th>average_montly_hours_norm</th>\n",
       "      <td>14999.0</td>\n",
       "      <td>0.15</td>\n",
       "      <td>0.07</td>\n",
       "      <td>0.00</td>\n",
       "      <td>0.08</td>\n",
       "      <td>0.15</td>\n",
       "      <td>0.21</td>\n",
       "      <td>1.00</td>\n",
       "    </tr>\n",
       "    <tr>\n",
       "      <th>satisfaction_norm</th>\n",
       "      <td>14999.0</td>\n",
       "      <td>0.61</td>\n",
       "      <td>0.25</td>\n",
       "      <td>0.00</td>\n",
       "      <td>0.43</td>\n",
       "      <td>0.64</td>\n",
       "      <td>0.82</td>\n",
       "      <td>1.00</td>\n",
       "    </tr>\n",
       "    <tr>\n",
       "      <th>satisfaction_padr</th>\n",
       "      <td>14999.0</td>\n",
       "      <td>-0.00</td>\n",
       "      <td>1.00</td>\n",
       "      <td>-2.42</td>\n",
       "      <td>-0.70</td>\n",
       "      <td>0.11</td>\n",
       "      <td>0.83</td>\n",
       "      <td>1.56</td>\n",
       "    </tr>\n",
       "  </tbody>\n",
       "</table>\n",
       "</div>"
      ],
      "text/plain": [
       "                             count     mean      std    min      25%      50%  \\\n",
       "id                         14999.0  7500.00  4329.98   1.00  3750.50  7500.00   \n",
       "satisfaction_level         14999.0     0.61     0.25   0.01     0.44     0.64   \n",
       "last_evaluation            14999.0     0.72     0.17   0.36     0.56     0.72   \n",
       "average_montly_hours       14999.0   201.08    50.18  96.00   156.00   200.00   \n",
       "time_spend_company         14999.0     3.41     1.18   2.00     3.00     3.00   \n",
       "Work_accident              14999.0     0.14     0.35   0.00     0.00     0.00   \n",
       "left                       14999.0     0.24     0.43   0.00     0.00     0.00   \n",
       "promotion_last_5years      14999.0     0.02     0.14   0.00     0.00     0.00   \n",
       "num_project                14999.0     3.79     1.19   2.00     3.00     4.00   \n",
       "average_montly_hours_norm  14999.0     0.15     0.07   0.00     0.08     0.15   \n",
       "satisfaction_norm          14999.0     0.61     0.25   0.00     0.43     0.64   \n",
       "satisfaction_padr          14999.0    -0.00     1.00  -2.42    -0.70     0.11   \n",
       "\n",
       "                                75%       max  \n",
       "id                         11249.50  14999.00  \n",
       "satisfaction_level             0.82      1.00  \n",
       "last_evaluation                0.87      1.00  \n",
       "average_montly_hours         245.00    810.00  \n",
       "time_spend_company             4.00      6.00  \n",
       "Work_accident                  0.00      1.00  \n",
       "left                           0.00      1.00  \n",
       "promotion_last_5years          0.00      1.00  \n",
       "num_project                    5.00      6.00  \n",
       "average_montly_hours_norm      0.21      1.00  \n",
       "satisfaction_norm              0.82      1.00  \n",
       "satisfaction_padr              0.83      1.56  "
      ]
     },
     "execution_count": 78,
     "metadata": {},
     "output_type": "execute_result"
    }
   ],
   "source": [
    "colaborador.describe().round(2).T"
   ]
  },
  {
   "cell_type": "code",
   "execution_count": 76,
   "id": "f392d8e8",
   "metadata": {},
   "outputs": [
    {
     "data": {
      "text/plain": [
       "Text(0.5, 1.0, 'Histograma Nivel de Satisfação Padronizada')"
      ]
     },
     "execution_count": 76,
     "metadata": {},
     "output_type": "execute_result"
    },
    {
     "data": {
      "image/png": "[encoded data removed]",
      "text/plain": [
       "<Figure size 432x288 with 1 Axes>"
      ]
     },
     "metadata": {
      "needs_background": "light"
     },
     "output_type": "display_data"
    }
   ],
   "source": [
    "# Histograma da variável satisfaction_level padronizada\n",
    "\n",
    "plt.hist(colaborador['satisfaction_padr'], bins=5)\n",
    "plt.ylabel('Frequência')\n",
    "plt.xlabel('satisfaction_level')\n",
    "plt.title('Histograma Nivel de Satisfação Padronizada')"
   ]
  },
  {
   "cell_type": "code",
   "execution_count": null,
   "id": "23006d11",
   "metadata": {},
   "outputs": [],
   "source": []
  },
  {
   "cell_type": "code",
   "execution_count": 79,
   "id": "4ed850d4",
   "metadata": {},
   "outputs": [],
   "source": [
    "################################################\n",
    "########### REMOVER OS OUTLIERS ############\n",
    "################################################\n",
    "\n",
    "# Removendo os Outliers\n",
    "colabSemOut = colaborador.loc[colaborador.average_montly_hours < 500]\n"
   ]
  },
  {
   "cell_type": "code",
   "execution_count": 81,
   "id": "d0057f51",
   "metadata": {},
   "outputs": [
    {
     "data": {
      "text/html": [
       "<div>\n",
       "<style scoped>\n",
       "    .dataframe tbody tr th:only-of-type {\n",
       "        vertical-align: middle;\n",
       "    }\n",
       "\n",
       "    .dataframe tbody tr th {\n",
       "        vertical-align: top;\n",
       "    }\n",
       "\n",
       "    .dataframe thead th {\n",
       "        text-align: right;\n",
       "    }\n",
       "</style>\n",
       "<table border=\"1\" class=\"dataframe\">\n",
       "  <thead>\n",
       "    <tr style=\"text-align: right;\">\n",
       "      <th></th>\n",
       "      <th>count</th>\n",
       "      <th>mean</th>\n",
       "      <th>std</th>\n",
       "      <th>min</th>\n",
       "      <th>25%</th>\n",
       "      <th>50%</th>\n",
       "      <th>75%</th>\n",
       "      <th>max</th>\n",
       "    </tr>\n",
       "  </thead>\n",
       "  <tbody>\n",
       "    <tr>\n",
       "      <th>id</th>\n",
       "      <td>14998.0</td>\n",
       "      <td>7499.50</td>\n",
       "      <td>4329.70</td>\n",
       "      <td>1.00</td>\n",
       "      <td>3750.25</td>\n",
       "      <td>7499.50</td>\n",
       "      <td>11248.75</td>\n",
       "      <td>14999.00</td>\n",
       "    </tr>\n",
       "    <tr>\n",
       "      <th>satisfaction_level</th>\n",
       "      <td>14998.0</td>\n",
       "      <td>0.61</td>\n",
       "      <td>0.25</td>\n",
       "      <td>0.01</td>\n",
       "      <td>0.44</td>\n",
       "      <td>0.64</td>\n",
       "      <td>0.82</td>\n",
       "      <td>1.00</td>\n",
       "    </tr>\n",
       "    <tr>\n",
       "      <th>last_evaluation</th>\n",
       "      <td>14998.0</td>\n",
       "      <td>0.72</td>\n",
       "      <td>0.17</td>\n",
       "      <td>0.36</td>\n",
       "      <td>0.56</td>\n",
       "      <td>0.72</td>\n",
       "      <td>0.87</td>\n",
       "      <td>1.00</td>\n",
       "    </tr>\n",
       "    <tr>\n",
       "      <th>average_montly_hours</th>\n",
       "      <td>14998.0</td>\n",
       "      <td>201.04</td>\n",
       "      <td>49.94</td>\n",
       "      <td>96.00</td>\n",
       "      <td>156.00</td>\n",
       "      <td>200.00</td>\n",
       "      <td>245.00</td>\n",
       "      <td>310.00</td>\n",
       "    </tr>\n",
       "    <tr>\n",
       "      <th>time_spend_company</th>\n",
       "      <td>14998.0</td>\n",
       "      <td>3.41</td>\n",
       "      <td>1.18</td>\n",
       "      <td>2.00</td>\n",
       "      <td>3.00</td>\n",
       "      <td>3.00</td>\n",
       "      <td>4.00</td>\n",
       "      <td>6.00</td>\n",
       "    </tr>\n",
       "    <tr>\n",
       "      <th>Work_accident</th>\n",
       "      <td>14998.0</td>\n",
       "      <td>0.14</td>\n",
       "      <td>0.35</td>\n",
       "      <td>0.00</td>\n",
       "      <td>0.00</td>\n",
       "      <td>0.00</td>\n",
       "      <td>0.00</td>\n",
       "      <td>1.00</td>\n",
       "    </tr>\n",
       "    <tr>\n",
       "      <th>left</th>\n",
       "      <td>14998.0</td>\n",
       "      <td>0.24</td>\n",
       "      <td>0.43</td>\n",
       "      <td>0.00</td>\n",
       "      <td>0.00</td>\n",
       "      <td>0.00</td>\n",
       "      <td>0.00</td>\n",
       "      <td>1.00</td>\n",
       "    </tr>\n",
       "    <tr>\n",
       "      <th>promotion_last_5years</th>\n",
       "      <td>14998.0</td>\n",
       "      <td>0.02</td>\n",
       "      <td>0.14</td>\n",
       "      <td>0.00</td>\n",
       "      <td>0.00</td>\n",
       "      <td>0.00</td>\n",
       "      <td>0.00</td>\n",
       "      <td>1.00</td>\n",
       "    </tr>\n",
       "    <tr>\n",
       "      <th>num_project</th>\n",
       "      <td>14998.0</td>\n",
       "      <td>3.79</td>\n",
       "      <td>1.19</td>\n",
       "      <td>2.00</td>\n",
       "      <td>3.00</td>\n",
       "      <td>4.00</td>\n",
       "      <td>5.00</td>\n",
       "      <td>6.00</td>\n",
       "    </tr>\n",
       "    <tr>\n",
       "      <th>average_montly_hours_norm</th>\n",
       "      <td>14998.0</td>\n",
       "      <td>0.15</td>\n",
       "      <td>0.07</td>\n",
       "      <td>0.00</td>\n",
       "      <td>0.08</td>\n",
       "      <td>0.15</td>\n",
       "      <td>0.21</td>\n",
       "      <td>0.30</td>\n",
       "    </tr>\n",
       "    <tr>\n",
       "      <th>satisfaction_norm</th>\n",
       "      <td>14998.0</td>\n",
       "      <td>0.61</td>\n",
       "      <td>0.25</td>\n",
       "      <td>0.00</td>\n",
       "      <td>0.43</td>\n",
       "      <td>0.64</td>\n",
       "      <td>0.82</td>\n",
       "      <td>1.00</td>\n",
       "    </tr>\n",
       "    <tr>\n",
       "      <th>satisfaction_padr</th>\n",
       "      <td>14998.0</td>\n",
       "      <td>0.00</td>\n",
       "      <td>1.00</td>\n",
       "      <td>-2.42</td>\n",
       "      <td>-0.70</td>\n",
       "      <td>0.11</td>\n",
       "      <td>0.83</td>\n",
       "      <td>1.56</td>\n",
       "    </tr>\n",
       "  </tbody>\n",
       "</table>\n",
       "</div>"
      ],
      "text/plain": [
       "                             count     mean      std    min      25%      50%  \\\n",
       "id                         14998.0  7499.50  4329.70   1.00  3750.25  7499.50   \n",
       "satisfaction_level         14998.0     0.61     0.25   0.01     0.44     0.64   \n",
       "last_evaluation            14998.0     0.72     0.17   0.36     0.56     0.72   \n",
       "average_montly_hours       14998.0   201.04    49.94  96.00   156.00   200.00   \n",
       "time_spend_company         14998.0     3.41     1.18   2.00     3.00     3.00   \n",
       "Work_accident              14998.0     0.14     0.35   0.00     0.00     0.00   \n",
       "left                       14998.0     0.24     0.43   0.00     0.00     0.00   \n",
       "promotion_last_5years      14998.0     0.02     0.14   0.00     0.00     0.00   \n",
       "num_project                14998.0     3.79     1.19   2.00     3.00     4.00   \n",
       "average_montly_hours_norm  14998.0     0.15     0.07   0.00     0.08     0.15   \n",
       "satisfaction_norm          14998.0     0.61     0.25   0.00     0.43     0.64   \n",
       "satisfaction_padr          14998.0     0.00     1.00  -2.42    -0.70     0.11   \n",
       "\n",
       "                                75%       max  \n",
       "id                         11248.75  14999.00  \n",
       "satisfaction_level             0.82      1.00  \n",
       "last_evaluation                0.87      1.00  \n",
       "average_montly_hours         245.00    310.00  \n",
       "time_spend_company             4.00      6.00  \n",
       "Work_accident                  0.00      1.00  \n",
       "left                           0.00      1.00  \n",
       "promotion_last_5years          0.00      1.00  \n",
       "num_project                    5.00      6.00  \n",
       "average_montly_hours_norm      0.21      0.30  \n",
       "satisfaction_norm              0.82      1.00  \n",
       "satisfaction_padr              0.83      1.56  "
      ]
     },
     "execution_count": 81,
     "metadata": {},
     "output_type": "execute_result"
    }
   ],
   "source": [
    "colabSemOut.describe().round(2).T"
   ]
  },
  {
   "cell_type": "code",
   "execution_count": 82,
   "id": "893c598f",
   "metadata": {},
   "outputs": [
    {
     "data": {
      "text/plain": [
       "Text(0.5, 1.0, 'Histograma average_montly_hours')"
      ]
     },
     "execution_count": 82,
     "metadata": {},
     "output_type": "execute_result"
    },
    {
     "data": {
      "image/png": "[encoded data removed]",
      "text/plain": [
       "<Figure size 432x288 with 1 Axes>"
      ]
     },
     "metadata": {
      "needs_background": "light"
     },
     "output_type": "display_data"
    }
   ],
   "source": [
    "# Histograma da variável average_montly_hours\n",
    "plt.hist(colabSemOut['average_montly_hours'], bins=5)\n",
    "plt.ylabel('Frequência')\n",
    "plt.xlabel('average_montly_hours')\n",
    "plt.title('Histograma average_montly_hours')"
   ]
  },
  {
   "cell_type": "code",
   "execution_count": 83,
   "id": "bdd805be",
   "metadata": {},
   "outputs": [
    {
     "data": {
      "text/plain": [
       "<AxesSubplot:ylabel='average_montly_hours'>"
      ]
     },
     "execution_count": 83,
     "metadata": {},
     "output_type": "execute_result"
    },
    {
     "data": {
      "image/png": "[encoded data removed]",
      "text/plain": [
       "<Figure size 432x288 with 1 Axes>"
      ]
     },
     "metadata": {
      "needs_background": "light"
     },
     "output_type": "display_data"
    }
   ],
   "source": [
    "# Boxplot da variável average_montly_hours\n",
    "sb.boxplot(y=\"average_montly_hours\", data=colabSemOut)"
   ]
  },
  {
   "cell_type": "code",
   "execution_count": 84,
   "id": "4aeeae6f",
   "metadata": {},
   "outputs": [
    {
     "name": "stderr",
     "output_type": "stream",
     "text": [
      "C:\\Users\\JOAONO~1\\AppData\\Local\\Temp/ipykernel_6248/3288117668.py:1: SettingWithCopyWarning: \n",
      "A value is trying to be set on a copy of a slice from a DataFrame.\n",
      "Try using .loc[row_indexer,col_indexer] = value instead\n",
      "\n",
      "See the caveats in the documentation: https://pandas.pydata.org/pandas-docs/stable/user_guide/indexing.html#returning-a-view-versus-a-copy\n",
      "  colabSemOut['average_montly_hours'] = (colabSemOut['average_montly_hours'] - np.mean(colabSemOut['average_montly_hours']) )/np.std(colabSemOut['average_montly_hours'])\n"
     ]
    }
   ],
   "source": [
    "colabSemOut['average_montly_hours1'] = (colabSemOut['average_montly_hours'] - np.mean(colabSemOut['average_montly_hours']) )/np.std(colabSemOut['average_montly_hours'])"
   ]
  },
  {
   "cell_type": "code",
   "execution_count": null,
   "id": "d43aede7",
   "metadata": {},
   "outputs": [],
   "source": []
  }
 ],
 "metadata": {
  "kernelspec": {
   "display_name": "Python 3 (ipykernel)",
   "language": "python",
   "name": "python3"
  },
  "language_info": {
   "codemirror_mode": {
    "name": "ipython",
    "version": 3
   },
   "file_extension": ".py",
   "mimetype": "text/x-python",
   "name": "python",
   "nbconvert_exporter": "python",
   "pygments_lexer": "ipython3",
   "version": "3.9.7"
  }
 },
 "nbformat": 4,
 "nbformat_minor": 5
}
